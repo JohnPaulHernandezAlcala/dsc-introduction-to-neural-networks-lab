{
 "cells": [
  {
   "cell_type": "markdown",
   "metadata": {},
   "source": [
    "# Introduction to Neural Networks - Lab"
   ]
  },
  {
   "cell_type": "markdown",
   "metadata": {},
   "source": [
    "## Introduction"
   ]
  },
  {
   "cell_type": "markdown",
   "metadata": {},
   "source": [
    "In this lab, you'll practice everything you have learned during the lecture. We know there is quite a bit of math involved, but don't worry! Using Python and trying things out yourself will actually make a lot of things much more clear! Before we start, let's load some necessary libraries so we can import our data."
   ]
  },
  {
   "cell_type": "markdown",
   "metadata": {},
   "source": [
    "## Objectives\n",
    "\n",
    "In this lab you will:\n",
    "\n",
    "- Import images using Keras \n",
    "- Build a \"shallow\" neural network from scratch "
   ]
  },
  {
   "cell_type": "markdown",
   "metadata": {},
   "source": [
    "As usual, we'll start by importing the necessary packages that we'll use in this lab. "
   ]
  },
  {
   "cell_type": "code",
   "execution_count": 1,
   "metadata": {},
   "outputs": [
    {
     "name": "stdout",
     "output_type": "stream",
     "text": [
      "Requirement already satisfied: pillow in c:\\users\\johnh\\anaconda3\\envs\\learn-env\\lib\\site-packages (7.2.0)\n"
     ]
    }
   ],
   "source": [
    "!pip install pillow"
   ]
  },
  {
   "cell_type": "code",
   "execution_count": 8,
   "metadata": {},
   "outputs": [
    {
     "name": "stdout",
     "output_type": "stream",
     "text": [
      "Collecting tensorflow\n",
      "  Using cached tensorflow-2.3.1-cp36-cp36m-win_amd64.whl (342.5 MB)\n",
      "Collecting tensorboard<3,>=2.3.0\n",
      "  Using cached tensorboard-2.3.0-py3-none-any.whl (6.8 MB)\n",
      "Collecting protobuf>=3.9.2\n",
      "  Using cached protobuf-3.13.0-cp36-cp36m-win_amd64.whl (1.1 MB)\n",
      "Processing c:\\users\\johnh\\appdata\\local\\pip\\cache\\wheels\\32\\42\\7f\\23cae9ff6ef66798d00dc5d659088e57dbba01566f6c60db63\\wrapt-1.12.1-py3-none-any.whl\n",
      "Requirement already satisfied: h5py<2.11.0,>=2.10.0 in c:\\users\\johnh\\anaconda3\\envs\\learn-env\\lib\\site-packages (from tensorflow) (2.10.0)\n",
      "Requirement already satisfied: six>=1.12.0 in c:\\users\\johnh\\anaconda3\\envs\\learn-env\\lib\\site-packages (from tensorflow) (1.15.0)\n",
      "Collecting google-pasta>=0.1.8\n",
      "  Using cached google_pasta-0.2.0-py3-none-any.whl (57 kB)\n",
      "Requirement already satisfied: absl-py>=0.7.0 in c:\\users\\johnh\\anaconda3\\envs\\learn-env\\lib\\site-packages (from tensorflow) (0.10.0)\n",
      "Collecting keras-preprocessing<1.2,>=1.1.1\n",
      "  Using cached Keras_Preprocessing-1.1.2-py2.py3-none-any.whl (42 kB)\n",
      "Requirement already satisfied: wheel>=0.26 in c:\\users\\johnh\\anaconda3\\envs\\learn-env\\lib\\site-packages (from tensorflow) (0.35.1)\n",
      "Collecting tensorflow-estimator<2.4.0,>=2.3.0\n",
      "  Using cached tensorflow_estimator-2.3.0-py2.py3-none-any.whl (459 kB)\n",
      "Collecting grpcio>=1.8.6\n",
      "  Using cached grpcio-1.32.0-cp36-cp36m-win_amd64.whl (2.6 MB)\n",
      "Collecting opt-einsum>=2.3.2\n",
      "  Using cached opt_einsum-3.3.0-py3-none-any.whl (65 kB)\n",
      "Processing c:\\users\\johnh\\appdata\\local\\pip\\cache\\wheels\\93\\2a\\eb\\e58dbcbc963549ee4f065ff80a59f274cc7210b6eab962acdc\\termcolor-1.1.0-py3-none-any.whl\n",
      "Collecting gast==0.3.3\n",
      "  Using cached gast-0.3.3-py2.py3-none-any.whl (9.7 kB)\n",
      "Requirement already satisfied: astunparse==1.6.3 in c:\\users\\johnh\\anaconda3\\envs\\learn-env\\lib\\site-packages (from tensorflow) (1.6.3)\n",
      "Requirement already satisfied: numpy<1.19.0,>=1.16.0 in c:\\users\\johnh\\anaconda3\\envs\\learn-env\\lib\\site-packages (from tensorflow) (1.18.5)\n",
      "Requirement already satisfied: requests<3,>=2.21.0 in c:\\users\\johnh\\anaconda3\\envs\\learn-env\\lib\\site-packages (from tensorboard<3,>=2.3.0->tensorflow) (2.24.0)\n",
      "Collecting markdown>=2.6.8\n",
      "  Using cached Markdown-3.3.1-py3-none-any.whl (95 kB)\n",
      "Collecting google-auth<2,>=1.6.3\n",
      "  Using cached google_auth-1.22.1-py2.py3-none-any.whl (114 kB)\n",
      "Collecting google-auth-oauthlib<0.5,>=0.4.1\n",
      "  Using cached google_auth_oauthlib-0.4.1-py2.py3-none-any.whl (18 kB)\n",
      "Requirement already satisfied: setuptools>=41.0.0 in c:\\users\\johnh\\anaconda3\\envs\\learn-env\\lib\\site-packages (from tensorboard<3,>=2.3.0->tensorflow) (50.3.0.post20201005)\n",
      "Collecting tensorboard-plugin-wit>=1.6.0\n",
      "  Using cached tensorboard_plugin_wit-1.7.0-py3-none-any.whl (779 kB)\n",
      "Collecting werkzeug>=0.11.15\n",
      "  Using cached Werkzeug-1.0.1-py2.py3-none-any.whl (298 kB)\n",
      "Requirement already satisfied: chardet<4,>=3.0.2 in c:\\users\\johnh\\anaconda3\\envs\\learn-env\\lib\\site-packages (from requests<3,>=2.21.0->tensorboard<3,>=2.3.0->tensorflow) (3.0.4)\n",
      "Requirement already satisfied: idna<3,>=2.5 in c:\\users\\johnh\\anaconda3\\envs\\learn-env\\lib\\site-packages (from requests<3,>=2.21.0->tensorboard<3,>=2.3.0->tensorflow) (2.10)\n",
      "Requirement already satisfied: certifi>=2017.4.17 in c:\\users\\johnh\\anaconda3\\envs\\learn-env\\lib\\site-packages (from requests<3,>=2.21.0->tensorboard<3,>=2.3.0->tensorflow) (2020.6.20)\n",
      "Requirement already satisfied: urllib3!=1.25.0,!=1.25.1,<1.26,>=1.21.1 in c:\\users\\johnh\\anaconda3\\envs\\learn-env\\lib\\site-packages (from requests<3,>=2.21.0->tensorboard<3,>=2.3.0->tensorflow) (1.25.10)\n",
      "Requirement already satisfied: importlib-metadata; python_version < \"3.8\" in c:\\users\\johnh\\anaconda3\\envs\\learn-env\\lib\\site-packages (from markdown>=2.6.8->tensorboard<3,>=2.3.0->tensorflow) (1.7.0)\n",
      "Collecting pyasn1-modules>=0.2.1\n",
      "  Using cached pyasn1_modules-0.2.8-py2.py3-none-any.whl (155 kB)\n",
      "Collecting rsa<5,>=3.1.4; python_version >= \"3.5\"\n",
      "  Using cached rsa-4.6-py3-none-any.whl (47 kB)\n",
      "Collecting cachetools<5.0,>=2.0.0\n",
      "  Using cached cachetools-4.1.1-py3-none-any.whl (10 kB)\n",
      "Collecting requests-oauthlib>=0.7.0\n",
      "  Using cached requests_oauthlib-1.3.0-py2.py3-none-any.whl (23 kB)\n",
      "Requirement already satisfied: zipp>=0.5 in c:\\users\\johnh\\anaconda3\\envs\\learn-env\\lib\\site-packages (from importlib-metadata; python_version < \"3.8\"->markdown>=2.6.8->tensorboard<3,>=2.3.0->tensorflow) (3.1.0)\n",
      "Collecting pyasn1<0.5.0,>=0.4.6\n",
      "  Using cached pyasn1-0.4.8-py2.py3-none-any.whl (77 kB)\n",
      "Collecting oauthlib>=3.0.0\n",
      "  Using cached oauthlib-3.1.0-py2.py3-none-any.whl (147 kB)\n",
      "Installing collected packages: markdown, protobuf, grpcio, pyasn1, pyasn1-modules, rsa, cachetools, google-auth, oauthlib, requests-oauthlib, google-auth-oauthlib, tensorboard-plugin-wit, werkzeug, tensorboard, wrapt, google-pasta, keras-preprocessing, tensorflow-estimator, opt-einsum, termcolor, gast, tensorflow\n",
      "Successfully installed cachetools-4.1.1 gast-0.3.3 google-auth-1.22.1 google-auth-oauthlib-0.4.1 google-pasta-0.2.0 grpcio-1.32.0 keras-preprocessing-1.1.2 markdown-3.3.1 oauthlib-3.1.0 opt-einsum-3.3.0 protobuf-3.13.0 pyasn1-0.4.8 pyasn1-modules-0.2.8 requests-oauthlib-1.3.0 rsa-4.6 tensorboard-2.3.0 tensorboard-plugin-wit-1.7.0 tensorflow-2.3.1 tensorflow-estimator-2.3.0 termcolor-1.1.0 werkzeug-1.0.1 wrapt-1.12.1\n"
     ]
    }
   ],
   "source": [
    "!pip install tensorflow"
   ]
  },
  {
   "cell_type": "code",
   "execution_count": 9,
   "metadata": {},
   "outputs": [],
   "source": [
    "import numpy as np\n",
    "import tensorflow as tf\n",
    "from tensorflow import keras"
   ]
  },
  {
   "cell_type": "code",
   "execution_count": 11,
   "metadata": {},
   "outputs": [
    {
     "name": "stdout",
     "output_type": "stream",
     "text": [
      "Collecting package metadata (current_repodata.json): ...working... done\n",
      "Solving environment: ...working... done\n",
      "\n",
      "## Package Plan ##\n",
      "\n",
      "  environment location: C:\\Users\\johnh\\Anaconda3\\envs\\learn-env\n",
      "\n",
      "\n",
      "The following packages will be downloaded:\n",
      "\n",
      "    package                    |            build\n",
      "    ---------------------------|-----------------\n",
      "    boto3-1.15.16              |             py_0          70 KB\n",
      "    botocore-1.18.16           |             py_0         3.2 MB\n",
      "    brotli-1.0.9               |       ha925a31_2         332 KB\n",
      "    freetype-2.10.3            |       hd328e21_0         467 KB\n",
      "    importlib-metadata-2.0.0   |             py_1          35 KB\n",
      "    importlib_metadata-2.0.0   |                1          11 KB\n",
      "    pandas-1.1.3               |   py36ha925a31_0         7.3 MB\n",
      "    python-graphviz-0.14.2     |             py_0          20 KB\n",
      "    regex-2020.9.27            |   py36he774522_0         297 KB\n",
      "    setuptools-50.3.0          |   py36h9490d1a_1         727 KB\n",
      "    sqlparse-0.4.1             |             py_0          35 KB\n",
      "    statsmodels-0.12.0         |   py36he774522_0         8.2 MB\n",
      "    terminado-0.9.1            |           py36_0          27 KB\n",
      "    tqdm-4.50.2                |             py_0          56 KB\n",
      "    zipp-3.3.0                 |             py_0          12 KB\n",
      "    ------------------------------------------------------------\n",
      "                                           Total:        20.7 MB\n",
      "\n",
      "The following packages will be UPDATED:\n",
      "\n",
      "  boto3                                        1.15.11-py_0 --> 1.15.16-py_0\n",
      "  botocore                                     1.18.11-py_0 --> 1.18.16-py_0\n",
      "  brotli                                   1.0.9-h33f27b4_0 --> 1.0.9-ha925a31_2\n",
      "  freetype                                2.10.2-hd328e21_0 --> 2.10.3-hd328e21_0\n",
      "  importlib-metadata pkgs/main/win-64::importlib-metadata-~ --> pkgs/main/noarch::importlib-metadata-2.0.0-py_1\n",
      "  importlib_metadata                                1.7.0-0 --> 2.0.0-1\n",
      "  pandas                               1.1.2-py36ha925a31_0 --> 1.1.3-py36ha925a31_0\n",
      "  python-graphviz                               0.14.1-py_0 --> 0.14.2-py_0\n",
      "  regex                            2020.7.14-py36he774522_0 --> 2020.9.27-py36he774522_0\n",
      "  setuptools                                  50.3.0-py36_0 --> 50.3.0-py36h9490d1a_1\n",
      "  sqlparse                                       0.3.1-py_0 --> 0.4.1-py_0\n",
      "  statsmodels                         0.11.1-py36he774522_0 --> 0.12.0-py36he774522_0\n",
      "  terminado                                    0.8.3-py36_0 --> 0.9.1-py36_0\n",
      "  tqdm                                          4.50.0-py_0 --> 4.50.2-py_0\n",
      "  zipp                                           3.1.0-py_0 --> 3.3.0-py_0\n",
      "\n",
      "\n",
      "\n",
      "Downloading and Extracting Packages\n",
      "\n",
      "sqlparse-0.4.1       | 35 KB     |            |   0% \n",
      "sqlparse-0.4.1       | 35 KB     | ####5      |  46% \n",
      "sqlparse-0.4.1       | 35 KB     | ########## | 100% \n",
      "\n",
      "boto3-1.15.16        | 70 KB     |            |   0% \n",
      "boto3-1.15.16        | 70 KB     | ####5      |  46% \n",
      "boto3-1.15.16        | 70 KB     | ########## | 100% \n",
      "\n",
      "setuptools-50.3.0    | 727 KB    |            |   0% \n",
      "setuptools-50.3.0    | 727 KB    | 4          |   4% \n",
      "setuptools-50.3.0    | 727 KB    | ###5       |  35% \n",
      "setuptools-50.3.0    | 727 KB    | ########8  |  88% \n",
      "setuptools-50.3.0    | 727 KB    | ########## | 100% \n",
      "\n",
      "regex-2020.9.27      | 297 KB    |            |   0% \n",
      "regex-2020.9.27      | 297 KB    | ####3      |  43% \n",
      "regex-2020.9.27      | 297 KB    | ########## | 100% \n",
      "\n",
      "botocore-1.18.16     | 3.2 MB    |            |   0% \n",
      "botocore-1.18.16     | 3.2 MB    | 4          |   5% \n",
      "botocore-1.18.16     | 3.2 MB    | #6         |  17% \n",
      "botocore-1.18.16     | 3.2 MB    | ####4      |  45% \n",
      "botocore-1.18.16     | 3.2 MB    | ########5  |  85% \n",
      "botocore-1.18.16     | 3.2 MB    | ########## | 100% \n",
      "\n",
      "brotli-1.0.9         | 332 KB    |            |   0% \n",
      "brotli-1.0.9         | 332 KB    | ########## | 100% \n",
      "\n",
      "tqdm-4.50.2          | 56 KB     |            |   0% \n",
      "tqdm-4.50.2          | 56 KB     | ########## | 100% \n",
      "\n",
      "pandas-1.1.3         | 7.3 MB    |            |   0% \n",
      "pandas-1.1.3         | 7.3 MB    | 4          |   5% \n",
      "pandas-1.1.3         | 7.3 MB    | ##7        |  27% \n",
      "pandas-1.1.3         | 7.3 MB    | ######4    |  65% \n",
      "pandas-1.1.3         | 7.3 MB    | ########## | 100% \n",
      "\n",
      "importlib_metadata-2 | 11 KB     |            |   0% \n",
      "importlib_metadata-2 | 11 KB     | ########## | 100% \n",
      "\n",
      "freetype-2.10.3      | 467 KB    |            |   0% \n",
      "freetype-2.10.3      | 467 KB    | ########2  |  82% \n",
      "freetype-2.10.3      | 467 KB    | ########## | 100% \n",
      "\n",
      "importlib-metadata-2 | 35 KB     |            |   0% \n",
      "importlib-metadata-2 | 35 KB     | ########## | 100% \n",
      "\n",
      "terminado-0.9.1      | 27 KB     |            |   0% \n",
      "terminado-0.9.1      | 27 KB     | ########## | 100% \n",
      "\n",
      "statsmodels-0.12.0   | 8.2 MB    |            |   0% \n",
      "statsmodels-0.12.0   | 8.2 MB    | 4          |   5% \n",
      "statsmodels-0.12.0   | 8.2 MB    | ###6       |  37% \n",
      "statsmodels-0.12.0   | 8.2 MB    | ########1  |  82% \n",
      "statsmodels-0.12.0   | 8.2 MB    | ########## | 100% \n",
      "\n",
      "python-graphviz-0.14 | 20 KB     |            |   0% \n",
      "python-graphviz-0.14 | 20 KB     | ########## | 100% \n",
      "\n",
      "zipp-3.3.0           | 12 KB     |            |   0% \n",
      "zipp-3.3.0           | 12 KB     | ########## | 100% \n",
      "Preparing transaction: ...working... done\n",
      "Verifying transaction: ...working... done\n",
      "Executing transaction: ...working... done\n",
      "\n",
      "Note: you may need to restart the kernel to use updated packages.\n"
     ]
    },
    {
     "name": "stderr",
     "output_type": "stream",
     "text": [
      "\n",
      "\n",
      "==> WARNING: A newer version of conda exists. <==\n",
      "  current version: 4.8.3\n",
      "  latest version: 4.8.5\n",
      "\n",
      "Please update conda by running\n",
      "\n",
      "    $ conda update -n base -c defaults conda\n",
      "\n",
      "\n"
     ]
    }
   ],
   "source": [
    "conda update --all -y"
   ]
  },
  {
   "cell_type": "code",
   "execution_count": 12,
   "metadata": {},
   "outputs": [
    {
     "name": "stdout",
     "output_type": "stream",
     "text": [
      "Collecting package metadata (current_repodata.json): ...working... done\n",
      "Solving environment: ...working... done\n",
      "\n",
      "## Package Plan ##\n",
      "\n",
      "  environment location: C:\\Users\\johnh\\Anaconda3\n",
      "\n",
      "  added / updated specs:\n",
      "    - conda\n",
      "\n",
      "\n",
      "The following packages will be downloaded:\n",
      "\n",
      "    package                    |            build\n",
      "    ---------------------------|-----------------\n",
      "    _anaconda_depends-2020.07  |           py37_0           6 KB\n",
      "    argon2-cffi-20.1.0         |   py37he774522_1          50 KB\n",
      "    astroid-2.4.2              |           py37_0         290 KB\n",
      "    async_generator-1.10       |   py37h28b3542_0          40 KB\n",
      "    bcrypt-3.2.0               |   py37he774522_0          44 KB\n",
      "    bitarray-1.5.3             |   py37he774522_0          92 KB\n",
      "    blosc-1.20.0               |       h7bd577a_0         142 KB\n",
      "    bokeh-2.2.1                |           py37_0         5.3 MB\n",
      "    bottleneck-1.3.2           |   py37h2a96729_1         107 KB\n",
      "    brotlipy-0.7.0             |py37he774522_1000         336 KB\n",
      "    certifi-2020.6.20          |           py37_0         156 KB\n",
      "    cffi-1.14.3                |   py37h7a1dbc1_0         222 KB\n",
      "    cloudpickle-1.6.0          |             py_0          30 KB\n",
      "    comtypes-1.1.7             |        py37_1001         237 KB\n",
      "    conda-4.8.5                |           py37_0         2.9 MB\n",
      "    cryptography-3.1.1         |   py37h7a1dbc1_0         528 KB\n",
      "    curl-7.71.1                |       h2a8f88b_1         129 KB\n",
      "    cython-0.29.21             |   py37ha925a31_0         1.7 MB\n",
      "    cytoolz-0.11.0             |   py37he774522_0         279 KB\n",
      "    dask-2.30.0                |             py_0           5 KB\n",
      "    dask-core-2.30.0           |             py_0         605 KB\n",
      "    diff-match-patch-20200713  |             py_0          36 KB\n",
      "    distributed-2.30.0         |           py37_0         1.0 MB\n",
      "    docutils-0.16              |           py37_1         664 KB\n",
      "    et_xmlfile-1.0.1           |          py_1001          12 KB\n",
      "    fsspec-0.8.0               |             py_0          70 KB\n",
      "    future-0.18.2              |           py37_1         646 KB\n",
      "    gevent-20.9.0              |   py37he774522_0         1.3 MB\n",
      "    gmpy2-2.0.8                |   py37h0964b28_3         139 KB\n",
      "    greenlet-0.4.17            |   py37he774522_0          23 KB\n",
      "    html5lib-1.1               |             py_0          93 KB\n",
      "    imageio-2.9.0              |             py_0         3.0 MB\n",
      "    iniconfig-1.0.1            |             py_0           8 KB\n",
      "    intel-openmp-2020.2        |              254         1.6 MB\n",
      "    intervaltree-3.1.0         |             py_0          26 KB\n",
      "    ipykernel-5.3.4            |   py37h5ca1d4c_0         182 KB\n",
      "    ipython-7.18.1             |   py37h5ca1d4c_0        1007 KB\n",
      "    ipywidgets-7.5.1           |             py_1          98 KB\n",
      "    isort-5.6.1                |           py37_0         166 KB\n",
      "    jsonschema-3.2.0           |           py37_1         107 KB\n",
      "    jupyter_console-6.2.0      |             py_0          26 KB\n",
      "    jupyterlab-2.2.6           |             py_0         3.4 MB\n",
      "    jupyterlab_server-1.2.0    |             py_0          25 KB\n",
      "    keyring-21.4.0             |           py37_1          69 KB\n",
      "    libarchive-3.4.2           |       h5e25573_0         1.7 MB\n",
      "    libllvm9-9.0.1             |       h21ff451_0          61 KB\n",
      "    libtiff-4.1.0              |       h56a325e_1         739 KB\n",
      "    llvmlite-0.34.0            |   py37h1a82afc_4        12.4 MB\n",
      "    lxml-4.5.2                 |   py37h1350720_0         939 KB\n",
      "    lz4-c-1.9.2                |       hf4a77e7_3         106 KB\n",
      "    markupsafe-1.1.1           |   py37hfa6e2cd_1          22 KB\n",
      "    matplotlib-base-3.3.1      |   py37hba9282a_0         5.1 MB\n",
      "    mistune-0.8.4              |py37hfa6e2cd_1001          55 KB\n",
      "    mkl-2020.2                 |              256       109.3 MB\n",
      "    mkl_fft-1.2.0              |   py37h45dec08_0         118 KB\n",
      "    more-itertools-8.5.0       |             py_0          43 KB\n",
      "    mpc-1.1.0                  |       h7edee0f_1         260 KB\n",
      "    mpfr-4.0.2                 |       h62dcd97_1         1.5 MB\n",
      "    mpir-3.0.0                 |       hec2e145_1         1.3 MB\n",
      "    nbconvert-6.0.7            |           py37_0         498 KB\n",
      "    nose-1.3.7                 |        py37_1004         232 KB\n",
      "    notebook-6.1.4             |           py37_0         4.3 MB\n",
      "    numba-0.51.2               |   py37hf9181ef_1         3.1 MB\n",
      "    numpy-1.19.1               |   py37h5510c5b_0          22 KB\n",
      "    numpy-base-1.19.1          |   py37ha3acd2a_0         3.8 MB\n",
      "    numpydoc-1.1.0             |             py_0          42 KB\n",
      "    openpyxl-3.0.5             |             py_0         158 KB\n",
      "    pandas-1.1.3               |   py37ha925a31_0         7.3 MB\n",
      "    paramiko-2.7.2             |             py_0         143 KB\n",
      "    path-15.0.0                |           py37_0          37 KB\n",
      "    path.py-12.5.0             |                0           4 KB\n",
      "    pathlib2-2.3.5             |           py37_1          36 KB\n",
      "    pexpect-4.8.0              |           py37_1          78 KB\n",
      "    pickleshare-0.7.5          |        py37_1001          14 KB\n",
      "    pillow-7.2.0               |   py37hcc1f983_0         661 KB\n",
      "    pip-20.2.3                 |           py37_0         1.8 MB\n",
      "    psutil-5.7.2               |   py37he774522_0         349 KB\n",
      "    py-1.9.0                   |             py_0          79 KB\n",
      "    pycrypto-2.6.1             |  py37he774522_10         380 KB\n",
      "    pycurl-7.43.0.6            |   py37h7a1dbc1_0          62 KB\n",
      "    pydocstyle-5.1.1           |             py_0          38 KB\n",
      "    pylint-2.6.0               |           py37_0         460 KB\n",
      "    pynacl-1.4.0               |   py37h62dcd97_1         1.2 MB\n",
      "    pyrsistent-0.17.3          |   py37he774522_0          91 KB\n",
      "    pysocks-1.7.1              |           py37_1          28 KB\n",
      "    pytest-6.1.1               |           py37_0         425 KB\n",
      "    pywavelets-1.1.1           |   py37he774522_2         3.4 MB\n",
      "    pywin32-ctypes-0.2.0       |        py37_1001          39 KB\n",
      "    pyyaml-5.3.1               |   py37he774522_1         154 KB\n",
      "    pyzmq-19.0.2               |   py37ha925a31_1         387 KB\n",
      "    qtawesome-1.0.1            |             py_0         757 KB\n",
      "    qtconsole-4.7.7            |             py_0          96 KB\n",
      "    regex-2020.9.27            |   py37he774522_0         295 KB\n",
      "    rope-0.18.0                |             py_0         126 KB\n",
      "    ruamel_yaml-0.15.87        |   py37he774522_1         260 KB\n",
      "    scikit-learn-0.23.2        |   py37h47e9c7a_0         4.6 MB\n",
      "    scipy-1.5.2                |   py37h9439919_0        11.8 MB\n",
      "    setuptools-50.3.0          |   py37h9490d1a_1         727 KB\n",
      "    singledispatch-3.4.0.3     |          py_1001          12 KB\n",
      "    sortedcollections-1.2.1    |             py_0          13 KB\n",
      "    sortedcontainers-2.2.2     |             py_0          29 KB\n",
      "    sphinx-3.2.1               |             py_0         1.1 MB\n",
      "    sphinxcontrib-websupport-1.2.4|             py_0          34 KB\n",
      "    spyder-kernels-1.9.4       |           py37_0          98 KB\n",
      "    sqlalchemy-1.3.19          |   py37he774522_0         1.5 MB\n",
      "    statsmodels-0.12.0         |   py37he774522_0         8.1 MB\n",
      "    sympy-1.6.2                |           py37_0         8.5 MB\n",
      "    tbb-2020.3                 |       h74a9793_0         156 KB\n",
      "    tblib-1.7.0                |             py_0          16 KB\n",
      "    terminado-0.9.1            |           py37_0          27 KB\n",
      "    toml-0.10.1                |             py_0          20 KB\n",
      "    toolz-0.11.1               |             py_0          48 KB\n",
      "    traitlets-5.0.4            |             py_0          82 KB\n",
      "    typing_extensions-3.7.4.3  |             py_0          28 KB\n",
      "    watchdog-0.10.3            |           py37_0         114 KB\n",
      "    xlsxwriter-1.3.6           |             py_0         108 KB\n",
      "    xlwings-0.20.7             |           py37_0         736 KB\n",
      "    yapf-0.30.0                |             py_0         127 KB\n",
      "    zope-1.0                   |           py37_1           4 KB\n",
      "    zope.event-4.4             |           py37_0          10 KB\n",
      "    zope.interface-5.1.2       |   py37he774522_0         279 KB\n",
      "    zstd-1.4.5                 |       h04227a9_0         456 KB\n",
      "    ------------------------------------------------------------\n",
      "                                           Total:       229.5 MB\n",
      "\n",
      "The following NEW packages will be INSTALLED:\n",
      "\n",
      "  argon2-cffi        pkgs/main/win-64::argon2-cffi-20.1.0-py37he774522_1\n",
      "  async_generator    pkgs/main/win-64::async_generator-1.10-py37h28b3542_0\n",
      "  brotlipy           pkgs/main/win-64::brotlipy-0.7.0-py37he774522_1000\n",
      "  gmpy2              pkgs/main/win-64::gmpy2-2.0.8-py37h0964b28_3\n",
      "  iniconfig          pkgs/main/noarch::iniconfig-1.0.1-py_0\n",
      "  jupyterlab_pygmen~ pkgs/main/noarch::jupyterlab_pygments-0.1.2-py_0\n",
      "  libllvm9           pkgs/main/win-64::libllvm9-9.0.1-h21ff451_0\n",
      "  mpc                pkgs/main/win-64::mpc-1.1.0-h7edee0f_1\n",
      "  mpfr               pkgs/main/win-64::mpfr-4.0.2-h62dcd97_1\n",
      "  mpir               pkgs/main/win-64::mpir-3.0.0-hec2e145_1\n",
      "  nbclient           pkgs/main/noarch::nbclient-0.5.0-py_0\n",
      "  nest-asyncio       pkgs/main/noarch::nest-asyncio-1.4.1-py_0\n",
      "  regex              pkgs/main/win-64::regex-2020.9.27-py37he774522_0\n",
      "  threadpoolctl      pkgs/main/noarch::threadpoolctl-2.1.0-pyh5ca1d4c_0\n",
      "  zope               pkgs/main/win-64::zope-1.0-py37_1\n",
      "  zope.event         pkgs/main/win-64::zope.event-4.4-py37_0\n",
      "  zope.interface     pkgs/main/win-64::zope.interface-5.1.2-py37he774522_0\n",
      "\n",
      "The following packages will be REMOVED:\n",
      "\n",
      "  hypothesis-5.11.0-py_0\n",
      "  pytest-arraydiff-0.3-py37h39e3cac_0\n",
      "  pytest-astropy-0.8.0-py_0\n",
      "  pytest-astropy-header-0.1.2-py_0\n",
      "  pytest-doctestplus-0.7.0-py_0\n",
      "  pytest-openfiles-0.5.0-py_0\n",
      "  pytest-remotedata-0.3.2-py37_0\n",
      "\n",
      "The following packages will be UPDATED:\n",
      "\n",
      "  _anaconda_depends                          2020.02-py37_0 --> 2020.07-py37_0\n",
      "  asn1crypto         pkgs/main/win-64::asn1crypto-1.3.0-py~ --> pkgs/main/noarch::asn1crypto-1.4.0-py_0\n",
      "  astroid                                      2.4.1-py37_0 --> 2.4.2-py37_0\n",
      "  attrs                                         19.3.0-py_0 --> 20.2.0-py_0\n",
      "  backcall           pkgs/main/win-64::backcall-0.1.0-py37~ --> pkgs/main/noarch::backcall-0.2.0-py_0\n",
      "  bcrypt                               3.1.7-py37he774522_0 --> 3.2.0-py37he774522_0\n",
      "  beautifulsoup4     pkgs/main/win-64::beautifulsoup4-4.9.~ --> pkgs/main/noarch::beautifulsoup4-4.9.3-pyhb0f4dca_0\n",
      "  bitarray                             1.2.2-py37he774522_0 --> 1.5.3-py37he774522_0\n",
      "  bleach                                         3.1.4-py_0 --> 3.2.1-py_0\n",
      "  blosc                                   1.16.3-h7bd577a_0 --> 1.20.0-h7bd577a_0\n",
      "  bokeh                                        2.0.2-py37_0 --> 2.2.1-py37_0\n",
      "  bottleneck                           1.3.2-py37h2a96729_0 --> 1.3.2-py37h2a96729_1\n",
      "  ca-certificates                                2020.1.1-0 --> 2020.7.22-0\n",
      "  certifi                                 2020.4.5.1-py37_0 --> 2020.6.20-py37_0\n",
      "  cffi                                1.14.0-py37h7a1dbc1_0 --> 1.14.3-py37h7a1dbc1_0\n",
      "  cloudpickle                                    1.4.1-py_0 --> 1.6.0-py_0\n",
      "  comtypes                                     1.1.7-py37_0 --> 1.1.7-py37_1001\n",
      "  conda                                        4.8.3-py37_0 --> 4.8.5-py37_0\n",
      "  cryptography                         2.9.2-py37h7a1dbc1_0 --> 3.1.1-py37h7a1dbc1_0\n",
      "  curl                                    7.69.1-h2a8f88b_0 --> 7.71.1-h2a8f88b_1\n",
      "  cython                             0.29.17-py37ha925a31_0 --> 0.29.21-py37ha925a31_0\n",
      "  cytoolz                             0.10.1-py37he774522_0 --> 0.11.0-py37he774522_0\n",
      "  dask                                          2.17.2-py_0 --> 2.30.0-py_0\n",
      "  dask-core                                     2.17.2-py_0 --> 2.30.0-py_0\n",
      "  diff-match-patch                            20181111-py_0 --> 20200713-py_0\n",
      "  distributed                                 2.17.0-py37_0 --> 2.30.0-py37_0\n",
      "  docutils                                      0.16-py37_0 --> 0.16-py37_1\n",
      "  et_xmlfile         pkgs/main/win-64::et_xmlfile-1.0.1-py~ --> pkgs/main/noarch::et_xmlfile-1.0.1-py_1001\n",
      "  freetype                                 2.9.1-ha9979f8_1 --> 2.10.3-hd328e21_0\n",
      "  fsspec                                         0.7.4-py_0 --> 0.8.0-py_0\n",
      "  future                                      0.18.2-py37_0 --> 0.18.2-py37_1\n",
      "  gevent                               1.4.0-py37he774522_0 --> 20.9.0-py37he774522_0\n",
      "  greenlet                            0.4.15-py37hfa6e2cd_0 --> 0.4.17-py37he774522_0\n",
      "  html5lib           pkgs/main/win-64::html5lib-1.0.1-py37~ --> pkgs/main/noarch::html5lib-1.1-py_0\n",
      "  idna                                             2.9-py_1 --> 2.10-py_0\n",
      "  imageio                                        2.8.0-py_0 --> 2.9.0-py_0\n",
      "  importlib-metadata pkgs/main/win-64::importlib-metadata-~ --> pkgs/main/noarch::importlib-metadata-2.0.0-py_1\n",
      "  importlib_metadata                                1.6.0-0 --> 2.0.0-1\n",
      "  intel-openmp                                   2020.1-216 --> 2020.2-254\n",
      "  intervaltree                                   3.0.2-py_0 --> 3.1.0-py_0\n",
      "  ipykernel                            5.1.4-py37h39e3cac_0 --> 5.3.4-py37h5ca1d4c_0\n",
      "  ipython                             7.13.0-py37h5ca1d4c_0 --> 7.18.1-py37h5ca1d4c_0\n",
      "  ipywidgets                                     7.5.1-py_0 --> 7.5.1-py_1\n",
      "  isort                                       4.3.21-py37_0 --> 5.6.1-py37_0\n",
      "  joblib                                        0.15.1-py_0 --> 0.17.0-py_0\n",
      "  jsonschema                                   3.2.0-py37_0 --> 3.2.0-py37_1\n",
      "  jupyter_client                                 6.1.3-py_0 --> 6.1.7-py_0\n",
      "  jupyter_console                                6.1.0-py_0 --> 6.2.0-py_0\n",
      "  jupyterlab                             1.2.6-pyhf63ae98_0 --> 2.2.6-py_0\n",
      "  jupyterlab_server                              1.1.4-py_0 --> 1.2.0-py_0\n",
      "  keyring                                     21.1.1-py37_2 --> 21.4.0-py37_1\n",
      "  krb5                                    1.17.1-hc04afaa_0 --> 1.18.2-hc04afaa_0\n",
      "  libarchive                               3.3.3-h0643e63_5 --> 3.4.2-h5e25573_0\n",
      "  libcurl                                 7.69.1-h2a8f88b_0 --> 7.71.1-h2a8f88b_1\n",
      "  libsodium                               1.0.16-h9d3ae62_0 --> 1.0.18-h62dcd97_0\n",
      "  libtiff                                  4.1.0-h56a325e_0 --> 4.1.0-h56a325e_1\n",
      "  libxml2                                  2.9.9-h464c3ec_0 --> 2.9.10-h464c3ec_1\n",
      "  libxslt                                 1.1.33-h579f668_0 --> 1.1.34-he774522_0\n",
      "  llvmlite                            0.32.1-py37ha925a31_0 --> 0.34.0-py37h1a82afc_4\n",
      "  lxml                                 4.5.0-py37h1350720_0 --> 4.5.2-py37h1350720_0\n",
      "  lz4-c                                  1.8.1.2-h2fa13f4_0 --> 1.9.2-hf4a77e7_3\n",
      "  markupsafe                           1.1.1-py37he774522_0 --> 1.1.1-py37hfa6e2cd_1\n",
      "  matplotlib                                   3.1.3-py37_0 --> 3.3.1-0\n",
      "  matplotlib-base                      3.1.3-py37h64f37c6_0 --> 3.3.1-py37hba9282a_0\n",
      "  mistune                              0.8.4-py37he774522_0 --> 0.8.4-py37hfa6e2cd_1001\n",
      "  mkl                                            2020.1-216 --> 2020.2-256\n",
      "  mkl_fft                             1.0.15-py37h14836fe_0 --> 1.2.0-py37h45dec08_0\n",
      "  more-itertools                                 8.3.0-py_0 --> 8.5.0-py_0\n",
      "  nbconvert                                    5.6.1-py37_0 --> 6.0.7-py37_0\n",
      "  nbformat                                       5.0.6-py_0 --> 5.0.7-py_0\n",
      "  networkx                                         2.4-py_0 --> 2.5-py_0\n",
      "  nltk                  pkgs/main/win-64::nltk-3.4.5-py37_0 --> pkgs/main/noarch::nltk-3.5-py_0\n",
      "  nose                                         1.3.7-py37_2 --> 1.3.7-py37_1004\n",
      "  notebook                                     6.0.3-py37_0 --> 6.1.4-py37_0\n",
      "  numba                               0.49.1-py37h47e9c7a_0 --> 0.51.2-py37hf9181ef_1\n",
      "  numpy                               1.18.1-py37h93ca92e_0 --> 1.19.1-py37h5510c5b_0\n",
      "  numpy-base                          1.18.1-py37hc3f5095_1 --> 1.19.1-py37ha3acd2a_0\n",
      "  numpydoc                                       0.9.2-py_0 --> 1.1.0-py_0\n",
      "  openpyxl                                       3.0.3-py_0 --> 3.0.5-py_0\n",
      "  openssl                                 1.1.1g-he774522_0 --> 1.1.1h-he774522_0\n",
      "  packaging                                       20.3-py_0 --> 20.4-py_0\n",
      "  pandas                               1.0.3-py37h47e9c7a_0 --> 1.1.3-py37ha925a31_0\n",
      "  pandoc                                          2.2.3.2-0 --> 2.10.1-0\n",
      "  paramiko                                       2.7.1-py_0 --> 2.7.2-py_0\n",
      "  path                                        13.1.0-py37_0 --> 15.0.0-py37_0\n",
      "  path.py                                          12.4.0-0 --> 12.5.0-0\n",
      "  pathlib2                                     2.3.5-py37_0 --> 2.3.5-py37_1\n",
      "  pexpect                                      4.8.0-py37_0 --> 4.8.0-py37_1\n",
      "  pickleshare                                  0.7.5-py37_0 --> 0.7.5-py37_1001\n",
      "  pillow                               7.1.2-py37hcc1f983_0 --> 7.2.0-py37hcc1f983_0\n",
      "  pip                                         20.0.2-py37_3 --> 20.2.3-py37_0\n",
      "  prometheus_client                              0.7.1-py_0 --> 0.8.0-py_0\n",
      "  prompt-toolkit                                 3.0.5-py_0 --> 3.0.7-py_0\n",
      "  prompt_toolkit                                    3.0.5-0 --> 3.0.7-0\n",
      "  psutil                               5.7.0-py37he774522_0 --> 5.7.2-py37he774522_0\n",
      "  py                                             1.8.1-py_0 --> 1.9.0-py_0\n",
      "  pycparser                                       2.20-py_0 --> 2.20-py_2\n",
      "  pycrypto                             2.6.1-py37hfa6e2cd_9 --> 2.6.1-py37he774522_10\n",
      "  pycurl                            7.43.0.5-py37h7a1dbc1_0 --> 7.43.0.6-py37h7a1dbc1_0\n",
      "  pydocstyle                                     4.0.1-py_0 --> 5.1.1-py_0\n",
      "  pygments                                       2.6.1-py_0 --> 2.7.1-py_0\n",
      "  pylint                                       2.5.2-py37_0 --> 2.6.0-py37_0\n",
      "  pynacl                               1.3.0-py37h62dcd97_0 --> 1.4.0-py37h62dcd97_1\n",
      "  pyopenssl          pkgs/main/win-64::pyopenssl-19.1.0-py~ --> pkgs/main/noarch::pyopenssl-19.1.0-py_1\n",
      "  pyrsistent                          0.16.0-py37he774522_0 --> 0.17.3-py37he774522_0\n",
      "  pysocks                                      1.7.1-py37_0 --> 1.7.1-py37_1\n",
      "  pytest                                       5.4.2-py37_0 --> 6.1.1-py37_0\n",
      "  pywavelets                           1.1.1-py37he774522_0 --> 1.1.1-py37he774522_2\n",
      "  pywin32-ctypes                            0.2.0-py37_1000 --> 0.2.0-py37_1001\n",
      "  pyyaml                               5.3.1-py37he774522_0 --> 5.3.1-py37he774522_1\n",
      "  pyzmq                               18.1.1-py37ha925a31_0 --> 19.0.2-py37ha925a31_1\n",
      "  qtawesome                                      0.7.0-py_0 --> 1.0.1-py_0\n",
      "  qtconsole                                      4.7.4-py_0 --> 4.7.7-py_0\n",
      "  requests           pkgs/main/win-64::requests-2.23.0-py3~ --> pkgs/main/noarch::requests-2.24.0-py_0\n",
      "  rope                                          0.17.0-py_0 --> 0.18.0-py_0\n",
      "  ruamel_yaml                        0.15.87-py37he774522_0 --> 0.15.87-py37he774522_1\n",
      "  scikit-learn                        0.22.1-py37h6288b17_0 --> 0.23.2-py37h47e9c7a_0\n",
      "  scipy                                1.4.1-py37h9439919_0 --> 1.5.2-py37h9439919_0\n",
      "  seaborn                                       0.10.1-py_0 --> 0.11.0-py_0\n",
      "  setuptools                                  47.1.1-py37_0 --> 50.3.0-py37h9490d1a_1\n",
      "  singledispatch     pkgs/main/win-64::singledispatch-3.4.~ --> pkgs/main/noarch::singledispatch-3.4.0.3-py_1001\n",
      "  snappy                                   1.1.7-h777316e_3 --> 1.1.8-h33f27b4_0\n",
      "  sortedcollections  pkgs/main/win-64::sortedcollections-1~ --> pkgs/main/noarch::sortedcollections-1.2.1-py_0\n",
      "  sortedcontainers   pkgs/main/win-64::sortedcontainers-2.~ --> pkgs/main/noarch::sortedcontainers-2.2.2-py_0\n",
      "  sphinx                                         3.0.4-py_0 --> 3.2.1-py_0\n",
      "  sphinxcontrib-web~                             1.2.1-py_0 --> 1.2.4-py_0\n",
      "  spyder-kernels                               1.9.1-py37_0 --> 1.9.4-py37_0\n",
      "  sqlalchemy                          1.3.17-py37he774522_0 --> 1.3.19-py37he774522_0\n",
      "  sqlite                                  3.31.1-h2a8f88b_1 --> 3.33.0-h2a8f88b_0\n",
      "  statsmodels                         0.11.1-py37he774522_0 --> 0.12.0-py37he774522_0\n",
      "  sympy                                        1.5.1-py37_0 --> 1.6.2-py37_0\n",
      "  tbb                                     2020.0-h74a9793_0 --> 2020.3-h74a9793_0\n",
      "  tblib                                          1.6.0-py_0 --> 1.7.0-py_0\n",
      "  terminado                                    0.8.3-py37_0 --> 0.9.1-py37_0\n",
      "  tk                                       8.6.8-hfa6e2cd_0 --> 8.6.10-he774522_0\n",
      "  toml               pkgs/main/win-64::toml-0.10.0-py37h28~ --> pkgs/main/noarch::toml-0.10.1-py_0\n",
      "  toolz                                         0.10.0-py_0 --> 0.11.1-py_0\n",
      "  tqdm                                          4.46.0-py_0 --> 4.50.2-py_0\n",
      "  traitlets          pkgs/main/win-64::traitlets-4.3.3-py3~ --> pkgs/main/noarch::traitlets-5.0.4-py_0\n",
      "  typing_extensions  pkgs/main/win-64::typing_extensions-3~ --> pkgs/main/noarch::typing_extensions-3.7.4.3-py_0\n",
      "  urllib3            pkgs/main/win-64::urllib3-1.25.8-py37~ --> pkgs/main/noarch::urllib3-1.25.10-py_0\n",
      "  vs2015_runtime                     14.16.27012-hf0eaf9b_2 --> 14.16.27012-hf0eaf9b_3\n",
      "  watchdog                                    0.10.2-py37_0 --> 0.10.3-py37_0\n",
      "  wcwidth                                        0.1.9-py_0 --> 0.2.5-py_0\n",
      "  wheel               pkgs/main/win-64::wheel-0.34.2-py37_0 --> pkgs/main/noarch::wheel-0.35.1-py_0\n",
      "  xlsxwriter                                     1.2.9-py_0 --> 1.3.6-py_0\n",
      "  xlwings                                     0.19.4-py37_0 --> 0.20.7-py37_0\n",
      "  yaml                                     0.1.7-hc54c509_2 --> 0.2.5-he774522_0\n",
      "  yapf                                          0.28.0-py_0 --> 0.30.0-py_0\n",
      "  zeromq                                   4.3.1-h33f27b4_3 --> 4.3.2-ha925a31_3\n",
      "  zipp                                           3.1.0-py_0 --> 3.3.0-py_0\n",
      "  zstd                                     1.3.7-h508b16e_0 --> 1.4.5-h04227a9_0\n",
      "\n",
      "\n",
      "\n",
      "Downloading and Extracting Packages\n",
      "\n",
      "sqlalchemy-1.3.19    | 1.5 MB    |            |   0% \n",
      "sqlalchemy-1.3.19    | 1.5 MB    | 1          |   1% \n",
      "sqlalchemy-1.3.19    | 1.5 MB    | 7          |   7% \n",
      "sqlalchemy-1.3.19    | 1.5 MB    | ##1        |  21% \n",
      "sqlalchemy-1.3.19    | 1.5 MB    | ####9      |  49% \n",
      "sqlalchemy-1.3.19    | 1.5 MB    | #########9 |  99% \n",
      "sqlalchemy-1.3.19    | 1.5 MB    | ########## | 100% \n",
      "\n",
      "diff-match-patch-202 | 36 KB     |            |   0% \n",
      "diff-match-patch-202 | 36 KB     | ########## | 100% \n",
      "\n",
      "nbconvert-6.0.7      | 498 KB    |            |   0% \n",
      "nbconvert-6.0.7      | 498 KB    | #####1     |  51% \n",
      "nbconvert-6.0.7      | 498 KB    | ########## | 100% \n",
      "\n",
      "yapf-0.30.0          | 127 KB    |            |   0% \n",
      "yapf-0.30.0          | 127 KB    | ########## | 100% \n",
      "\n",
      "conda-4.8.5          | 2.9 MB    |            |   0% \n",
      "conda-4.8.5          | 2.9 MB    | 5          |   5% \n",
      "conda-4.8.5          | 2.9 MB    | ##2        |  22% \n",
      "conda-4.8.5          | 2.9 MB    | #######2   |  72% \n",
      "conda-4.8.5          | 2.9 MB    | ########## | 100% \n",
      "\n",
      "numpy-1.19.1         | 22 KB     |            |   0% \n",
      "numpy-1.19.1         | 22 KB     | ########## | 100% \n",
      "\n",
      "pandas-1.1.3         | 7.3 MB    |            |   0% \n",
      "pandas-1.1.3         | 7.3 MB    | 3          |   4% \n",
      "pandas-1.1.3         | 7.3 MB    | ##4        |  25% \n",
      "pandas-1.1.3         | 7.3 MB    | #####8     |  59% \n",
      "pandas-1.1.3         | 7.3 MB    | ########## | 100% \n",
      "\n",
      "pillow-7.2.0         | 661 KB    |            |   0% \n",
      "pillow-7.2.0         | 661 KB    | #######9   |  80% \n",
      "pillow-7.2.0         | 661 KB    | ########## | 100% \n",
      "\n",
      "py-1.9.0             | 79 KB     |            |   0% \n",
      "py-1.9.0             | 79 KB     | ########## | 100% \n",
      "\n",
      "jsonschema-3.2.0     | 107 KB    |            |   0% \n",
      "jsonschema-3.2.0     | 107 KB    | ########## | 100% \n",
      "\n",
      "markupsafe-1.1.1     | 22 KB     |            |   0% \n",
      "markupsafe-1.1.1     | 22 KB     | ########## | 100% \n",
      "\n",
      "pycrypto-2.6.1       | 380 KB    |            |   0% \n",
      "pycrypto-2.6.1       | 380 KB    | ########## | 100% \n",
      "\n",
      "pexpect-4.8.0        | 78 KB     |            |   0% \n",
      "pexpect-4.8.0        | 78 KB     | ########## | 100% \n",
      "\n",
      "pickleshare-0.7.5    | 14 KB     |            |   0% \n",
      "pickleshare-0.7.5    | 14 KB     | ########## | 100% \n",
      "\n",
      "astroid-2.4.2        | 290 KB    |            |   0% \n",
      "astroid-2.4.2        | 290 KB    | ########## | 100% \n",
      "\n",
      "distributed-2.30.0   | 1.0 MB    |            |   0% \n",
      "distributed-2.30.0   | 1.0 MB    | ####2      |  42% \n",
      "distributed-2.30.0   | 1.0 MB    | ########## | 100% \n",
      "\n",
      "pywavelets-1.1.1     | 3.4 MB    |            |   0% \n",
      "pywavelets-1.1.1     | 3.4 MB    | #2         |  13% \n",
      "pywavelets-1.1.1     | 3.4 MB    | ########7  |  88% \n",
      "pywavelets-1.1.1     | 3.4 MB    | ########## | 100% \n",
      "\n",
      "nose-1.3.7           | 232 KB    |            |   0% \n",
      "nose-1.3.7           | 232 KB    | ########## | 100% \n",
      "\n",
      "libarchive-3.4.2     | 1.7 MB    |            |   0% \n",
      "libarchive-3.4.2     | 1.7 MB    | ##         |  21% \n",
      "libarchive-3.4.2     | 1.7 MB    | ########## | 100% \n",
      "\n",
      "bottleneck-1.3.2     | 107 KB    |            |   0% \n",
      "bottleneck-1.3.2     | 107 KB    | ########## | 100% \n",
      "\n",
      "gmpy2-2.0.8          | 139 KB    |            |   0% \n",
      "gmpy2-2.0.8          | 139 KB    | ########## | 100% \n",
      "\n",
      "lxml-4.5.2           | 939 KB    |            |   0% \n",
      "lxml-4.5.2           | 939 KB    | ######4    |  65% \n",
      "lxml-4.5.2           | 939 KB    | ########## | 100% \n",
      "\n",
      "qtconsole-4.7.7      | 96 KB     |            |   0% \n",
      "qtconsole-4.7.7      | 96 KB     | ########## | 100% \n",
      "\n",
      "dask-2.30.0          | 5 KB      |            |   0% \n",
      "dask-2.30.0          | 5 KB      | ########## | 100% \n",
      "\n",
      "pyrsistent-0.17.3    | 91 KB     |            |   0% \n",
      "pyrsistent-0.17.3    | 91 KB     | ########## | 100% \n",
      "\n",
      "tblib-1.7.0          | 16 KB     |            |   0% \n",
      "tblib-1.7.0          | 16 KB     | ########## | 100% \n",
      "\n",
      "terminado-0.9.1      | 27 KB     |            |   0% \n",
      "terminado-0.9.1      | 27 KB     | ########## | 100% \n",
      "\n",
      "jupyterlab_server-1. | 25 KB     |            |   0% \n",
      "jupyterlab_server-1. | 25 KB     | ########## | 100% \n",
      "\n",
      "matplotlib-base-3.3. | 5.1 MB    |            |   0% \n",
      "matplotlib-base-3.3. | 5.1 MB    | #7         |  18% \n",
      "matplotlib-base-3.3. | 5.1 MB    | #######9   |  79% \n",
      "matplotlib-base-3.3. | 5.1 MB    | ########## | 100% \n",
      "\n",
      "bcrypt-3.2.0         | 44 KB     |            |   0% \n",
      "bcrypt-3.2.0         | 44 KB     | ########## | 100% \n",
      "\n",
      "psutil-5.7.2         | 349 KB    |            |   0% \n",
      "psutil-5.7.2         | 349 KB    | ########## | 100% \n",
      "\n",
      "statsmodels-0.12.0   | 8.1 MB    |            |   0% \n",
      "statsmodels-0.12.0   | 8.1 MB    | 5          |   5% \n",
      "statsmodels-0.12.0   | 8.1 MB    | ##4        |  24% \n",
      "statsmodels-0.12.0   | 8.1 MB    | #####9     |  60% \n",
      "statsmodels-0.12.0   | 8.1 MB    | ########## | 100% \n",
      "\n",
      "watchdog-0.10.3      | 114 KB    |            |   0% \n",
      "watchdog-0.10.3      | 114 KB    | ########## | 100% \n",
      "\n",
      "pyyaml-5.3.1         | 154 KB    |            |   0% \n",
      "pyyaml-5.3.1         | 154 KB    | ########## | 100% \n",
      "\n",
      "numpy-base-1.19.1    | 3.8 MB    |            |   0% \n",
      "numpy-base-1.19.1    | 3.8 MB    | #4         |  15% \n",
      "numpy-base-1.19.1    | 3.8 MB    | #######6   |  76% \n",
      "numpy-base-1.19.1    | 3.8 MB    | ########## | 100% \n",
      "\n",
      "zstd-1.4.5           | 456 KB    |            |   0% \n",
      "zstd-1.4.5           | 456 KB    | #########1 |  91% \n",
      "zstd-1.4.5           | 456 KB    | ########## | 100% \n",
      "\n",
      "spyder-kernels-1.9.4 | 98 KB     |            |   0% \n",
      "spyder-kernels-1.9.4 | 98 KB     | ########## | 100% \n",
      "\n",
      "mkl_fft-1.2.0        | 118 KB    |            |   0% \n",
      "mkl_fft-1.2.0        | 118 KB    | ########## | 100% \n",
      "\n",
      "curl-7.71.1          | 129 KB    |            |   0% \n",
      "curl-7.71.1          | 129 KB    | ########## | 100% \n",
      "\n",
      "numba-0.51.2         | 3.1 MB    |            |   0% \n",
      "numba-0.51.2         | 3.1 MB    | ##5        |  26% \n",
      "numba-0.51.2         | 3.1 MB    | ########## | 100% \n",
      "\n",
      "pyzmq-19.0.2         | 387 KB    |            |   0% \n",
      "pyzmq-19.0.2         | 387 KB    | ########## | 100% \n",
      "\n",
      "typing_extensions-3. | 28 KB     |            |   0% \n",
      "typing_extensions-3. | 28 KB     | ########## | 100% \n",
      "\n",
      "pydocstyle-5.1.1     | 38 KB     |            |   0% \n",
      "pydocstyle-5.1.1     | 38 KB     | ########## | 100% \n",
      "\n",
      "imageio-2.9.0        | 3.0 MB    |            |   0% \n",
      "imageio-2.9.0        | 3.0 MB    | #3         |  13% \n",
      "imageio-2.9.0        | 3.0 MB    | #####8     |  59% \n",
      "imageio-2.9.0        | 3.0 MB    | ########## | 100% \n",
      "\n",
      "libllvm9-9.0.1       | 61 KB     |            |   0% \n",
      "libllvm9-9.0.1       | 61 KB     | ########## | 100% \n",
      "\n",
      "cython-0.29.21       | 1.7 MB    |            |   0% \n",
      "cython-0.29.21       | 1.7 MB    | ##6        |  26% \n",
      "cython-0.29.21       | 1.7 MB    | ########## | 100% \n",
      "\n",
      "mkl-2020.2           | 109.3 MB  |            |   0% \n",
      "mkl-2020.2           | 109.3 MB  |            |   0% \n",
      "mkl-2020.2           | 109.3 MB  | 2          |   2% \n",
      "mkl-2020.2           | 109.3 MB  | 7          |   7% \n",
      "mkl-2020.2           | 109.3 MB  | #1         |  11% \n",
      "mkl-2020.2           | 109.3 MB  | #3         |  14% \n",
      "mkl-2020.2           | 109.3 MB  | #5         |  16% \n",
      "mkl-2020.2           | 109.3 MB  | #9         |  19% \n",
      "mkl-2020.2           | 109.3 MB  | ##1        |  21% \n",
      "mkl-2020.2           | 109.3 MB  | ##6        |  26% \n",
      "mkl-2020.2           | 109.3 MB  | ##8        |  28% \n",
      "mkl-2020.2           | 109.3 MB  | ###        |  30% \n",
      "mkl-2020.2           | 109.3 MB  | ###2       |  33% \n",
      "mkl-2020.2           | 109.3 MB  | ###8       |  39% \n",
      "mkl-2020.2           | 109.3 MB  | ####1      |  41% \n",
      "mkl-2020.2           | 109.3 MB  | ####3      |  44% \n",
      "mkl-2020.2           | 109.3 MB  | ####6      |  46% \n",
      "mkl-2020.2           | 109.3 MB  | ####9      |  49% \n",
      "mkl-2020.2           | 109.3 MB  | #####1     |  51% \n",
      "mkl-2020.2           | 109.3 MB  | #####3     |  53% \n",
      "mkl-2020.2           | 109.3 MB  | #####5     |  55% \n",
      "mkl-2020.2           | 109.3 MB  | #####8     |  58% \n",
      "mkl-2020.2           | 109.3 MB  | ######     |  60% \n",
      "mkl-2020.2           | 109.3 MB  | ######3    |  64% \n",
      "mkl-2020.2           | 109.3 MB  | ######5    |  66% \n",
      "mkl-2020.2           | 109.3 MB  | ######7    |  68% \n",
      "mkl-2020.2           | 109.3 MB  | ######9    |  69% \n",
      "mkl-2020.2           | 109.3 MB  | #######3   |  74% \n",
      "mkl-2020.2           | 109.3 MB  | #######6   |  76% \n",
      "mkl-2020.2           | 109.3 MB  | #######8   |  78% \n",
      "mkl-2020.2           | 109.3 MB  | #######9   |  80% \n",
      "mkl-2020.2           | 109.3 MB  | ########1  |  81% \n",
      "mkl-2020.2           | 109.3 MB  | ########2  |  83% \n",
      "mkl-2020.2           | 109.3 MB  | ########3  |  84% \n",
      "mkl-2020.2           | 109.3 MB  | ########9  |  90% \n",
      "mkl-2020.2           | 109.3 MB  | #########1 |  91% \n",
      "mkl-2020.2           | 109.3 MB  | #########2 |  93% \n",
      "mkl-2020.2           | 109.3 MB  | #########4 |  94% \n",
      "mkl-2020.2           | 109.3 MB  | #########8 |  98% \n",
      "mkl-2020.2           | 109.3 MB  | ########## | 100% \n",
      "\n",
      "pysocks-1.7.1        | 28 KB     |            |   0% \n",
      "pysocks-1.7.1        | 28 KB     | ########## | 100% \n",
      "\n",
      "jupyter_console-6.2. | 26 KB     |            |   0% \n",
      "jupyter_console-6.2. | 26 KB     | ########## | 100% \n",
      "\n",
      "libtiff-4.1.0        | 739 KB    |            |   0% \n",
      "libtiff-4.1.0        | 739 KB    | ########## | 100% \n",
      "\n",
      "cryptography-3.1.1   | 528 KB    |            |   0% \n",
      "cryptography-3.1.1   | 528 KB    | ########## | 100% \n",
      "\n",
      "ipython-7.18.1       | 1007 KB   |            |   0% \n",
      "ipython-7.18.1       | 1007 KB   | ########## | 100% \n",
      "\n",
      "async_generator-1.10 | 40 KB     |            |   0% \n",
      "async_generator-1.10 | 40 KB     | ########## | 100% \n",
      "\n",
      "scipy-1.5.2          | 11.8 MB   |            |   0% \n",
      "scipy-1.5.2          | 11.8 MB   | #2         |  13% \n",
      "scipy-1.5.2          | 11.8 MB   | ###8       |  38% \n",
      "scipy-1.5.2          | 11.8 MB   | ########3  |  84% \n",
      "scipy-1.5.2          | 11.8 MB   | ########## | 100% \n",
      "\n",
      "singledispatch-3.4.0 | 12 KB     |            |   0% \n",
      "singledispatch-3.4.0 | 12 KB     | ########## | 100% \n",
      "\n",
      "certifi-2020.6.20    | 156 KB    |            |   0% \n",
      "certifi-2020.6.20    | 156 KB    | ########## | 100% \n",
      "\n",
      "xlsxwriter-1.3.6     | 108 KB    |            |   0% \n",
      "xlsxwriter-1.3.6     | 108 KB    | ########## | 100% \n",
      "\n",
      "_anaconda_depends-20 | 6 KB      |            |   0% \n",
      "_anaconda_depends-20 | 6 KB      | ########## | 100% \n",
      "\n",
      "sympy-1.6.2          | 8.5 MB    |            |   0% \n",
      "sympy-1.6.2          | 8.5 MB    | #7         |  17% \n",
      "sympy-1.6.2          | 8.5 MB    | ######7    |  67% \n",
      "sympy-1.6.2          | 8.5 MB    | ########## | 100% \n",
      "\n",
      "rope-0.18.0          | 126 KB    |            |   0% \n",
      "rope-0.18.0          | 126 KB    | ########## | 100% \n",
      "\n",
      "sortedcollections-1. | 13 KB     |            |   0% \n",
      "sortedcollections-1. | 13 KB     | ########## | 100% \n",
      "\n",
      "xlwings-0.20.7       | 736 KB    |            |   0% \n",
      "xlwings-0.20.7       | 736 KB    | ########## | 100% \n",
      "\n",
      "ipywidgets-7.5.1     | 98 KB     |            |   0% \n",
      "ipywidgets-7.5.1     | 98 KB     | ########## | 100% \n",
      "\n",
      "dask-core-2.30.0     | 605 KB    |            |   0% \n",
      "dask-core-2.30.0     | 605 KB    | ########## | 100% \n",
      "\n",
      "toolz-0.11.1         | 48 KB     |            |   0% \n",
      "toolz-0.11.1         | 48 KB     | ########## | 100% \n",
      "\n",
      "brotlipy-0.7.0       | 336 KB    |            |   0% \n",
      "brotlipy-0.7.0       | 336 KB    | ########## | 100% \n",
      "\n",
      "zope.interface-5.1.2 | 279 KB    |            |   0% \n",
      "zope.interface-5.1.2 | 279 KB    | ########## | 100% \n",
      "\n",
      "paramiko-2.7.2       | 143 KB    |            |   0% \n",
      "paramiko-2.7.2       | 143 KB    | ########## | 100% \n",
      "\n",
      "ruamel_yaml-0.15.87  | 260 KB    |            |   0% \n",
      "ruamel_yaml-0.15.87  | 260 KB    | 6          |   6% \n",
      "ruamel_yaml-0.15.87  | 260 KB    | ########## | 100% \n",
      "\n",
      "pip-20.2.3           | 1.8 MB    |            |   0% \n",
      "pip-20.2.3           | 1.8 MB    | #########1 |  92% \n",
      "pip-20.2.3           | 1.8 MB    | ########## | 100% \n",
      "\n",
      "iniconfig-1.0.1      | 8 KB      |            |   0% \n",
      "iniconfig-1.0.1      | 8 KB      | ########## | 100% \n",
      "\n",
      "cffi-1.14.3          | 222 KB    |            |   0% \n",
      "cffi-1.14.3          | 222 KB    | ########## | 100% \n",
      "\n",
      "mpfr-4.0.2           | 1.5 MB    |            |   0% \n",
      "mpfr-4.0.2           | 1.5 MB    | ########## | 100% \n",
      "\n",
      "pycurl-7.43.0.6      | 62 KB     |            |   0% \n",
      "pycurl-7.43.0.6      | 62 KB     | ########## | 100% \n",
      "\n",
      "bokeh-2.2.1          | 5.3 MB    |            |   0% \n",
      "bokeh-2.2.1          | 5.3 MB    | #8         |  19% \n",
      "bokeh-2.2.1          | 5.3 MB    | ########## | 100% \n",
      "\n",
      "html5lib-1.1         | 93 KB     |            |   0% \n",
      "html5lib-1.1         | 93 KB     | ########## | 100% \n",
      "\n",
      "pylint-2.6.0         | 460 KB    |            |   0% \n",
      "pylint-2.6.0         | 460 KB    | ########## | 100% \n",
      "\n",
      "blosc-1.20.0         | 142 KB    |            |   0% \n",
      "blosc-1.20.0         | 142 KB    | ########## | 100% \n",
      "\n",
      "more-itertools-8.5.0 | 43 KB     |            |   0% \n",
      "more-itertools-8.5.0 | 43 KB     | ########## | 100% \n",
      "\n",
      "isort-5.6.1          | 166 KB    |            |   0% \n",
      "isort-5.6.1          | 166 KB    | ########## | 100% \n",
      "\n",
      "mistune-0.8.4        | 55 KB     |            |   0% \n",
      "mistune-0.8.4        | 55 KB     | ########## | 100% \n",
      "\n",
      "toml-0.10.1          | 20 KB     |            |   0% \n",
      "toml-0.10.1          | 20 KB     | ########## | 100% \n",
      "\n",
      "cloudpickle-1.6.0    | 30 KB     |            |   0% \n",
      "cloudpickle-1.6.0    | 30 KB     | ########## | 100% \n",
      "\n",
      "pytest-6.1.1         | 425 KB    |            |   0% \n",
      "pytest-6.1.1         | 425 KB    | ########## | 100% \n",
      "\n",
      "intervaltree-3.1.0   | 26 KB     |            |   0% \n",
      "intervaltree-3.1.0   | 26 KB     | ########## | 100% \n",
      "\n",
      "greenlet-0.4.17      | 23 KB     |            |   0% \n",
      "greenlet-0.4.17      | 23 KB     | ########## | 100% \n",
      "\n",
      "future-0.18.2        | 646 KB    |            |   0% \n",
      "future-0.18.2        | 646 KB    | ########## | 100% \n",
      "\n",
      "zope.event-4.4       | 10 KB     |            |   0% \n",
      "zope.event-4.4       | 10 KB     | ########## | 100% \n",
      "\n",
      "jupyterlab-2.2.6     | 3.4 MB    |            |   0% \n",
      "jupyterlab-2.2.6     | 3.4 MB    | ##4        |  25% \n",
      "jupyterlab-2.2.6     | 3.4 MB    | ########6  |  86% \n",
      "jupyterlab-2.2.6     | 3.4 MB    | ########## | 100% \n",
      "\n",
      "traitlets-5.0.4      | 82 KB     |            |   0% \n",
      "traitlets-5.0.4      | 82 KB     | ########## | 100% \n",
      "\n",
      "llvmlite-0.34.0      | 12.4 MB   |            |   0% \n",
      "llvmlite-0.34.0      | 12.4 MB   | 5          |   5% \n",
      "llvmlite-0.34.0      | 12.4 MB   | #1         |  11% \n",
      "llvmlite-0.34.0      | 12.4 MB   | ####       |  41% \n",
      "llvmlite-0.34.0      | 12.4 MB   | #####8     |  59% \n",
      "llvmlite-0.34.0      | 12.4 MB   | ########## | 100% \n",
      "\n",
      "path-15.0.0          | 37 KB     |            |   0% \n",
      "path-15.0.0          | 37 KB     | ########## | 100% \n",
      "\n",
      "mpir-3.0.0           | 1.3 MB    |            |   0% \n",
      "mpir-3.0.0           | 1.3 MB    | ########## | 100% \n",
      "\n",
      "ipykernel-5.3.4      | 182 KB    |            |   0% \n",
      "ipykernel-5.3.4      | 182 KB    | ########## | 100% \n",
      "\n",
      "et_xmlfile-1.0.1     | 12 KB     |            |   0% \n",
      "et_xmlfile-1.0.1     | 12 KB     | ########## | 100% \n",
      "\n",
      "lz4-c-1.9.2          | 106 KB    |            |   0% \n",
      "lz4-c-1.9.2          | 106 KB    | ########## | 100% \n",
      "\n",
      "scikit-learn-0.23.2  | 4.6 MB    |            |   0% \n",
      "scikit-learn-0.23.2  | 4.6 MB    | #          |  11% \n",
      "scikit-learn-0.23.2  | 4.6 MB    | ########7  |  87% \n",
      "scikit-learn-0.23.2  | 4.6 MB    | ########## | 100% \n",
      "\n",
      "setuptools-50.3.0    | 727 KB    |            |   0% \n",
      "setuptools-50.3.0    | 727 KB    | ########## | 100% \n",
      "\n",
      "sortedcontainers-2.2 | 29 KB     |            |   0% \n",
      "sortedcontainers-2.2 | 29 KB     | ########## | 100% \n",
      "\n",
      "keyring-21.4.0       | 69 KB     |            |   0% \n",
      "keyring-21.4.0       | 69 KB     | ########## | 100% \n",
      "\n",
      "pywin32-ctypes-0.2.0 | 39 KB     |            |   0% \n",
      "pywin32-ctypes-0.2.0 | 39 KB     | ########## | 100% \n",
      "\n",
      "notebook-6.1.4       | 4.3 MB    |            |   0% \n",
      "notebook-6.1.4       | 4.3 MB    | ##9        |  29% \n",
      "notebook-6.1.4       | 4.3 MB    | ########## | 100% \n",
      "\n",
      "tbb-2020.3           | 156 KB    |            |   0% \n",
      "tbb-2020.3           | 156 KB    | ########## | 100% \n",
      "\n",
      "qtawesome-1.0.1      | 757 KB    |            |   0% \n",
      "qtawesome-1.0.1      | 757 KB    | ######9    |  70% \n",
      "qtawesome-1.0.1      | 757 KB    | ########## | 100% \n",
      "\n",
      "fsspec-0.8.0         | 70 KB     |            |   0% \n",
      "fsspec-0.8.0         | 70 KB     | ##2        |  23% \n",
      "fsspec-0.8.0         | 70 KB     | ########## | 100% \n",
      "\n",
      "openpyxl-3.0.5       | 158 KB    |            |   0% \n",
      "openpyxl-3.0.5       | 158 KB    | ########## | 100% \n",
      "\n",
      "path.py-12.5.0       | 4 KB      |            |   0% \n",
      "path.py-12.5.0       | 4 KB      | ########## | 100% \n",
      "\n",
      "regex-2020.9.27      | 295 KB    |            |   0% \n",
      "regex-2020.9.27      | 295 KB    | ########## | 100% \n",
      "\n",
      "sphinx-3.2.1         | 1.1 MB    |            |   0% \n",
      "sphinx-3.2.1         | 1.1 MB    | #########5 |  95% \n",
      "sphinx-3.2.1         | 1.1 MB    | ########## | 100% \n",
      "\n",
      "bitarray-1.5.3       | 92 KB     |            |   0% \n",
      "bitarray-1.5.3       | 92 KB     | ########## | 100% \n",
      "\n",
      "gevent-20.9.0        | 1.3 MB    |            |   0% \n",
      "gevent-20.9.0        | 1.3 MB    | #########3 |  93% \n",
      "gevent-20.9.0        | 1.3 MB    | ########## | 100% \n",
      "\n",
      "docutils-0.16        | 664 KB    |            |   0% \n",
      "docutils-0.16        | 664 KB    | #########8 |  99% \n",
      "docutils-0.16        | 664 KB    | ########## | 100% \n",
      "\n",
      "intel-openmp-2020.2  | 1.6 MB    |            |   0% \n",
      "intel-openmp-2020.2  | 1.6 MB    | #########1 |  91% \n",
      "intel-openmp-2020.2  | 1.6 MB    | ########## | 100% \n",
      "\n",
      "zope-1.0             | 4 KB      |            |   0% \n",
      "zope-1.0             | 4 KB      | ########## | 100% \n",
      "\n",
      "pynacl-1.4.0         | 1.2 MB    |            |   0% \n",
      "pynacl-1.4.0         | 1.2 MB    | ########## | 100% \n",
      "\n",
      "sphinxcontrib-websup | 34 KB     |            |   0% \n",
      "sphinxcontrib-websup | 34 KB     | ########## | 100% \n",
      "\n",
      "pathlib2-2.3.5       | 36 KB     |            |   0% \n",
      "pathlib2-2.3.5       | 36 KB     | ########## | 100% \n",
      "\n",
      "cytoolz-0.11.0       | 279 KB    |            |   0% \n",
      "cytoolz-0.11.0       | 279 KB    | ########## | 100% \n",
      "\n",
      "comtypes-1.1.7       | 237 KB    |            |   0% \n",
      "comtypes-1.1.7       | 237 KB    | #####4     |  54% \n",
      "comtypes-1.1.7       | 237 KB    | ########## | 100% \n",
      "\n",
      "mpc-1.1.0            | 260 KB    |            |   0% \n",
      "mpc-1.1.0            | 260 KB    | ########## | 100% \n",
      "\n",
      "argon2-cffi-20.1.0   | 50 KB     |            |   0% \n",
      "argon2-cffi-20.1.0   | 50 KB     | ########## | 100% \n",
      "\n",
      "numpydoc-1.1.0       | 42 KB     |            |   0% \n",
      "numpydoc-1.1.0       | 42 KB     | ########## | 100% \n",
      "Preparing transaction: ...working... done\n",
      "Verifying transaction: ...working... done\n",
      "Executing transaction: ...working... done\n",
      "\n",
      "Note: you may need to restart the kernel to use updated packages.\n"
     ]
    },
    {
     "name": "stderr",
     "output_type": "stream",
     "text": [
      "DEBUG menuinst_win32:__init__(199): Menu: name: 'Anaconda${PY_VER} ${PLATFORM}', prefix: 'C:\\Users\\johnh\\Anaconda3', env_name: 'None', mode: 'user', used_mode: 'user'\n",
      "DEBUG menuinst_win32:create(323): Shortcut cmd is C:\\Users\\johnh\\Anaconda3\\python.exe, args are ['C:\\\\Users\\\\johnh\\\\Anaconda3\\\\cwp.py', 'C:\\\\Users\\\\johnh\\\\Anaconda3', 'C:\\\\Users\\\\johnh\\\\Anaconda3\\\\python.exe', 'C:\\\\Users\\\\johnh\\\\Anaconda3\\\\Scripts\\\\jupyter-notebook-script.py', '\"%USERPROFILE%/\"']\n",
      "DEBUG menuinst_win32:__init__(199): Menu: name: 'Anaconda${PY_VER} ${PLATFORM}', prefix: 'C:\\Users\\johnh\\Anaconda3', env_name: 'None', mode: 'user', used_mode: 'user'\n",
      "DEBUG menuinst_win32:create(323): Shortcut cmd is C:\\Users\\johnh\\Anaconda3\\python.exe, args are ['C:\\\\Users\\\\johnh\\\\Anaconda3\\\\cwp.py', 'C:\\\\Users\\\\johnh\\\\Anaconda3', 'C:\\\\Users\\\\johnh\\\\Anaconda3\\\\python.exe', 'C:\\\\Users\\\\johnh\\\\Anaconda3\\\\Scripts\\\\jupyter-notebook-script.py', '\"%USERPROFILE%/\"']\n",
      "DEBUG menuinst_win32:__init__(199): Menu: name: 'Anaconda${PY_VER} ${PLATFORM}', prefix: 'C:\\Users\\johnh\\Anaconda3', env_name: 'None', mode: 'user', used_mode: 'user'\n",
      "DEBUG menuinst_win32:create(323): Shortcut cmd is C:\\Users\\johnh\\Anaconda3\\python.exe, args are ['C:\\\\Users\\\\johnh\\\\Anaconda3\\\\cwp.py', 'C:\\\\Users\\\\johnh\\\\Anaconda3', 'C:\\\\Users\\\\johnh\\\\Anaconda3\\\\python.exe', 'C:\\\\Users\\\\johnh\\\\Anaconda3\\\\Scripts\\\\jupyter-notebook-script.py', '\"%USERPROFILE%/\"']\n"
     ]
    }
   ],
   "source": [
    "conda update -n base -c defaults conda"
   ]
  },
  {
   "cell_type": "code",
   "execution_count": 13,
   "metadata": {},
   "outputs": [],
   "source": [
    "from keras_preprocessing.image import ImageDataGenerator, array_to_img, img_to_array, load_img\n",
    "import numpy as np\n",
    "import os"
   ]
  },
  {
   "cell_type": "markdown",
   "metadata": {},
   "source": [
    "In this lab, you'll import a bunch of images to correctly classify them as \"Santa\", meaning that Santa is present on the image or \"not Santa\" meaning that something else is in the images. \n",
    "\n",
    "If you have a look at this GitHub repository, you'll notice that the images are simply stored in `.jpeg` files and stored under the folder `'/data'`. Luckily, `keras` has great modules that make importing images stored in this type of format easy. We'll do this for you in the cell below.\n",
    "\n",
    "The images in the `'/data'` folder have various resolutions. We will reshape them so they are all 64 x 64 pixels."
   ]
  },
  {
   "cell_type": "code",
   "execution_count": 14,
   "metadata": {},
   "outputs": [
    {
     "name": "stdout",
     "output_type": "stream",
     "text": [
      "Found 132 images belonging to 2 classes.\n",
      "Found 790 images belonging to 2 classes.\n"
     ]
    }
   ],
   "source": [
    "# Directory path\n",
    "train_data_dir = 'data/train'\n",
    "test_data_dir = 'data/validation'\n",
    "\n",
    "# Get all the data in the directory data/validation (132 images), and reshape them\n",
    "test_generator = ImageDataGenerator().flow_from_directory(\n",
    "        test_data_dir, \n",
    "        target_size=(64, 64), batch_size=132)\n",
    "\n",
    "# Get all the data in the directory data/train (790 images), and reshape them\n",
    "train_generator = ImageDataGenerator().flow_from_directory(\n",
    "        train_data_dir, \n",
    "        target_size=(64, 64), batch_size=790)\n",
    "\n",
    "# Create the datasets\n",
    "train_images, train_labels = next(train_generator)\n",
    "test_images, test_labels = next(test_generator)"
   ]
  },
  {
   "cell_type": "markdown",
   "metadata": {},
   "source": [
    "## Inspect and prepare data"
   ]
  },
  {
   "cell_type": "markdown",
   "metadata": {},
   "source": [
    "## Look at some images"
   ]
  },
  {
   "cell_type": "markdown",
   "metadata": {},
   "source": [
    "Note that we have four numpy arrays now: `train_images`, `train_labels`, `test_images`, and `test_labels`. We'll need to make some changes to the data in order to work with them, but before we do anything else, let's have a look at some of the images we loaded in `train_images`. You can use `array_to_img()` from `keras.processing.image` on any image (select any `train_image` using `train_image[index]` to look at it). "
   ]
  },
  {
   "cell_type": "code",
   "execution_count": 15,
   "metadata": {},
   "outputs": [
    {
     "data": {
      "image/png": "[encoded data removed]",
      "text/plain": [
       "<PIL.Image.Image image mode=RGB size=64x64 at 0x17088E324E0>"
      ]
     },
     "execution_count": 15,
     "metadata": {},
     "output_type": "execute_result"
    }
   ],
   "source": [
    "# Preview an image\n",
    "array_to_img(train_images[10])"
   ]
  },
  {
   "cell_type": "code",
   "execution_count": 16,
   "metadata": {},
   "outputs": [
    {
     "data": {
      "image/png": "[encoded data removed]",
      "text/plain": [
       "<PIL.Image.Image image mode=RGB size=64x64 at 0x17088E32400>"
      ]
     },
     "execution_count": 16,
     "metadata": {},
     "output_type": "execute_result"
    }
   ],
   "source": [
    "# Preview another image\n",
    "array_to_img(train_images[130])"
   ]
  },
  {
   "cell_type": "markdown",
   "metadata": {},
   "source": [
    "## The shape of data"
   ]
  },
  {
   "cell_type": "markdown",
   "metadata": {},
   "source": [
    "Now, let's use `np.shape()` to look at what these numpy arrays look like."
   ]
  },
  {
   "cell_type": "code",
   "execution_count": 17,
   "metadata": {},
   "outputs": [
    {
     "name": "stdout",
     "output_type": "stream",
     "text": [
      "(790, 64, 64, 3)\n",
      "(790, 2)\n",
      "(132, 64, 64, 3)\n",
      "(132, 2)\n"
     ]
    }
   ],
   "source": [
    "# Preview the shape of both the images and labels for both the train and test sets (4 objects total)\n",
    "print(np.shape(train_images))\n",
    "print(np.shape(train_labels))\n",
    "print(np.shape(test_images))\n",
    "print(np.shape(test_labels))"
   ]
  },
  {
   "cell_type": "markdown",
   "metadata": {},
   "source": [
    "##  `train_images` and `test_images`"
   ]
  },
  {
   "cell_type": "markdown",
   "metadata": {},
   "source": [
    "Let's start with `train_images`. From the lesson, you might remember that the expected input shape is $n$ x $l$. How does this relate to what we see here?\n",
    "\n",
    "$l$ denotes the number of observations, or the number of images. The number of images in `train_images` is 790. $n$ is the number of elements in the feature vector for each image, or put differently, $n$ is the number of rows when unrowing the 3 (RGB) 64 x 64 matrices. \n",
    "\n",
    "So, translated to this example, we need to transform our `(790, 64, 64, 3)` matrix to a `(64*64*3, 790)` matrix! \n",
    "\n",
    "\n",
    "> Hint: You should use both the `.reshape()` method and then transpose the result using `.T`."
   ]
  },
  {
   "cell_type": "code",
   "execution_count": 18,
   "metadata": {},
   "outputs": [],
   "source": [
    "# Reshape the train images \n",
    "train_img_unrow = train_images.reshape(790, -1).T"
   ]
  },
  {
   "cell_type": "markdown",
   "metadata": {},
   "source": [
    "Verify that the shape of the the newly created `train_img_unrow` is correct."
   ]
  },
  {
   "cell_type": "code",
   "execution_count": 19,
   "metadata": {},
   "outputs": [
    {
     "data": {
      "text/plain": [
       "(12288, 790)"
      ]
     },
     "execution_count": 19,
     "metadata": {},
     "output_type": "execute_result"
    }
   ],
   "source": [
    "# Preview the shape of train_img_unrow\n",
    "np.shape(train_img_unrow)"
   ]
  },
  {
   "cell_type": "markdown",
   "metadata": {},
   "source": [
    "Next, let's transform `test_images` in a similar way. Note that the dimensions are different here! Where we needed to have a matrix shape of $n$ x $l$ for `train_images`; for `test_images`, we need to get to a shape of $n$ x $m$. What is $m$ here?"
   ]
  },
  {
   "cell_type": "code",
   "execution_count": 20,
   "metadata": {},
   "outputs": [],
   "source": [
    "# Define appropriate m \n",
    "m = 132\n",
    "test_img_unrow = test_images.reshape(m, -1).T"
   ]
  },
  {
   "cell_type": "code",
   "execution_count": 21,
   "metadata": {},
   "outputs": [
    {
     "data": {
      "text/plain": [
       "(12288, 132)"
      ]
     },
     "execution_count": 21,
     "metadata": {},
     "output_type": "execute_result"
    }
   ],
   "source": [
    "# Preview the shape of test_img_unrow\n",
    "np.shape(test_img_unrow)"
   ]
  },
  {
   "cell_type": "markdown",
   "metadata": {},
   "source": [
    "## `train_labels` and `test_labels`"
   ]
  },
  {
   "cell_type": "markdown",
   "metadata": {},
   "source": [
    "Earlier, you noticed that `train_labels` and `test_labels` have shapes of $(790, 2)$ and $(132, 2)$ respectively. In the lesson, we expected $1$ x $l$ and $1$ x $m$.\n",
    "\n",
    "Let's have a closer look."
   ]
  },
  {
   "cell_type": "code",
   "execution_count": 22,
   "metadata": {},
   "outputs": [
    {
     "data": {
      "text/plain": [
       "array([[0., 1.],\n",
       "       [1., 0.],\n",
       "       [1., 0.],\n",
       "       ...,\n",
       "       [0., 1.],\n",
       "       [1., 0.],\n",
       "       [0., 1.]], dtype=float32)"
      ]
     },
     "execution_count": 22,
     "metadata": {},
     "output_type": "execute_result"
    }
   ],
   "source": [
    "# Run this cell; no need to edit\n",
    "train_labels "
   ]
  },
  {
   "cell_type": "markdown",
   "metadata": {},
   "source": [
    "Looking at this, it's clear that for each observation (or image), `train_labels` doesn't simply have an output of 1 or 0, but a pair - either `[0, 1]` or `[1, 0]`.\n",
    "\n",
    "Having this information, we still don't know which pair corresponds with `santa` versus `not_santa`. Luckily, this was stored using `keras.preprocessing_image`, and you can get more info using the command `train_generator.class_indices`."
   ]
  },
  {
   "cell_type": "code",
   "execution_count": 23,
   "metadata": {},
   "outputs": [
    {
     "data": {
      "text/plain": [
       "{'not_santa': 0, 'santa': 1}"
      ]
     },
     "execution_count": 23,
     "metadata": {},
     "output_type": "execute_result"
    }
   ],
   "source": [
    "# Run this cell; no need to edit\n",
    "train_generator.class_indices "
   ]
  },
  {
   "cell_type": "markdown",
   "metadata": {},
   "source": [
    "Index 0 (the first column) represents `not_santa`, index 1 represents `santa`. Select one of the two columns and transpose the result such that you get $1$ x $l$ and $1$ x $m$ vectors respectively, and value `1` represents `santa`. "
   ]
  },
  {
   "cell_type": "code",
   "execution_count": 24,
   "metadata": {},
   "outputs": [],
   "source": [
    "# Your code here\n",
    "train_labels_final = train_labels.T[[1]]"
   ]
  },
  {
   "cell_type": "code",
   "execution_count": 25,
   "metadata": {},
   "outputs": [
    {
     "data": {
      "text/plain": [
       "(1, 790)"
      ]
     },
     "execution_count": 25,
     "metadata": {},
     "output_type": "execute_result"
    }
   ],
   "source": [
    "# Run this cell; no need to edit\n",
    "np.shape(train_labels_final) "
   ]
  },
  {
   "cell_type": "code",
   "execution_count": 26,
   "metadata": {},
   "outputs": [],
   "source": [
    "# Your code here\n",
    "test_labels_final = test_labels.T[[1]]"
   ]
  },
  {
   "cell_type": "code",
   "execution_count": 27,
   "metadata": {},
   "outputs": [
    {
     "data": {
      "text/plain": [
       "(1, 132)"
      ]
     },
     "execution_count": 27,
     "metadata": {},
     "output_type": "execute_result"
    }
   ],
   "source": [
    "# Run this cell; no need to edit\n",
    "np.shape(test_labels_final) "
   ]
  },
  {
   "cell_type": "markdown",
   "metadata": {},
   "source": [
    "As a final sanity check, look at an image and the corresponding label, so we're sure that santa is indeed stored as 1.\n",
    "\n",
    "- First, use `array_to_image()` again on the original `train_images` with index 240 to look at this particular image \n",
    "- Use `train_labels_final` to get the 240th label "
   ]
  },
  {
   "cell_type": "code",
   "execution_count": 28,
   "metadata": {},
   "outputs": [
    {
     "data": {
      "image/png": "[encoded data removed]",
      "text/plain": [
       "<PIL.Image.Image image mode=RGB size=64x64 at 0x170930ACA58>"
      ]
     },
     "execution_count": 28,
     "metadata": {},
     "output_type": "execute_result"
    }
   ],
   "source": [
    "# Preview train image at index 240\n",
    "array_to_img(train_images[240])\n"
   ]
  },
  {
   "cell_type": "code",
   "execution_count": 29,
   "metadata": {},
   "outputs": [
    {
     "data": {
      "text/plain": [
       "array([1.], dtype=float32)"
      ]
     },
     "execution_count": 29,
     "metadata": {},
     "output_type": "execute_result"
    }
   ],
   "source": [
    "# Preview train label at index 240\n",
    "train_labels_final[:,240]"
   ]
  },
  {
   "cell_type": "markdown",
   "metadata": {},
   "source": [
    "This seems to be correct! Feel free to try out other indices as well."
   ]
  },
  {
   "cell_type": "markdown",
   "metadata": {},
   "source": [
    "## Standardize the data"
   ]
  },
  {
   "cell_type": "markdown",
   "metadata": {},
   "source": [
    "Remember that each RGB pixel in an image takes a value between 0 and 255. In Deep Learning, it is very common to standardize and/or center your dataset. For images, a common thing that is done is to make sure each pixel value is between 0 and 1. This can be done by dividing the entire matrix by 255. Do this here for the `train_img_unrow` and `test_img_unrow`. "
   ]
  },
  {
   "cell_type": "code",
   "execution_count": 30,
   "metadata": {},
   "outputs": [
    {
     "data": {
      "text/plain": [
       "numpy.ndarray"
      ]
     },
     "execution_count": 30,
     "metadata": {},
     "output_type": "execute_result"
    }
   ],
   "source": [
    "# Your code here \n",
    "train_img_final = train_img_unrow/255\n",
    "test_img_final = test_img_unrow/255\n",
    "\n",
    "type(test_img_unrow)"
   ]
  },
  {
   "cell_type": "markdown",
   "metadata": {},
   "source": [
    "## Build a logistic regression-based neural network"
   ]
  },
  {
   "cell_type": "markdown",
   "metadata": {},
   "source": [
    "## Math recap"
   ]
  },
  {
   "cell_type": "markdown",
   "metadata": {},
   "source": [
    "Now we can go ahead and build our own basic logistic regression-based neural network to distinguish images with Santa from images without Santa. You saw in the lesson that logistic regression can actually be represented as a very simple neural network.\n",
    "\n",
    "Remember that we defined that, for each $x^{(i)}$:\n",
    "\n",
    "\n",
    "$$ \\mathcal{L}(\\hat y ^{(i)}, y^{(i)}) =  - \\big( y^{(i)} \\log(\\hat y^{(i)}) + (1-y^{(i)} )  \\log(1-\\hat y^{(i)})\\big)$$\n",
    "\n",
    "$$\\hat{y}^{(i)} = \\sigma(z^{(i)}) = \\frac{1}{1 + e^{-(z^{(i)})}}$$ \n",
    "\n",
    "$$z^{(i)} = w^T x^{(i)} + b$$\n",
    "\n",
    "The cost function is then given by:\n",
    "$$J(w,b) = \\dfrac{1}{l}\\displaystyle\\sum^l_{i=1}\\mathcal{L}(\\hat y^{(i)}, y^{(i)})$$"
   ]
  },
  {
   "cell_type": "markdown",
   "metadata": {},
   "source": [
    "In the remainder of this lab, you'll do the following:\n",
    "\n",
    "   - Initialize the parameters of the model\n",
    "   - Perform forward propagation, and calculate the current loss\n",
    "   - Perform backward propagation (which is basically calculating the current gradient)\n",
    "   - Update the parameters (gradient descent)"
   ]
  },
  {
   "cell_type": "markdown",
   "metadata": {},
   "source": [
    "## Parameter initialization"
   ]
  },
  {
   "cell_type": "markdown",
   "metadata": {},
   "source": [
    "$w$ and $b$ are the unknown parameters to start with: \n",
    "- remember that $b$ is a scalar\n",
    "- $w$ however, is a vector of shape $n$ x $1$, with $n$ being `horizontal_pixel x vertical_pixel x 3`"
   ]
  },
  {
   "cell_type": "markdown",
   "metadata": {},
   "source": [
    "## Initialize $b$"
   ]
  },
  {
   "cell_type": "markdown",
   "metadata": {},
   "source": [
    " Initialize $b$ as a scalar with value 0."
   ]
  },
  {
   "cell_type": "code",
   "execution_count": 31,
   "metadata": {},
   "outputs": [],
   "source": [
    "# Your code here\n",
    "b = 0"
   ]
  },
  {
   "cell_type": "markdown",
   "metadata": {},
   "source": [
    "## Initialize $w$"
   ]
  },
  {
   "cell_type": "markdown",
   "metadata": {},
   "source": [
    "Define a function `init_w()`, with a parameter `n`. The function should return an array with zeros that has a shape $n$ x $1$."
   ]
  },
  {
   "cell_type": "code",
   "execution_count": 32,
   "metadata": {},
   "outputs": [],
   "source": [
    "# Define your function\n",
    "def init_w(n):\n",
    "    w = np.zeros((n, 1))\n",
    "    return w"
   ]
  },
  {
   "cell_type": "code",
   "execution_count": 33,
   "metadata": {},
   "outputs": [],
   "source": [
    "# Call your function using appropriate parameters\n",
    "w = init_w(64*64*3)"
   ]
  },
  {
   "cell_type": "markdown",
   "metadata": {},
   "source": [
    "## Forward propagation"
   ]
  },
  {
   "cell_type": "markdown",
   "metadata": {},
   "source": [
    "In forward propagation, you:\n",
    "- get `x`\n",
    "- compute `y_hat`: \n",
    "\n",
    "$$ (\\hat y^{(1)}, \\hat y^{(2)}, \\ldots , \\hat y^{(l)})= \\sigma(w^T x + b) = \\Biggr(\\dfrac{1}{1+exp(w^T x^{(1)}+ b)},\\ldots, \\dfrac{1}{1+exp(w^T x^{(l)}+ b)}\\Biggr) $$\n",
    "- You calculate the `cost` function: $J(w,b) = -\\dfrac{1}{l}\\displaystyle\\sum_{i=1}^{l}y^{(i)}\\log(\\hat y^{(i)})+(1-y^{(i)})\\log(1-\\hat y^{(i)})$\n",
    "\n",
    "Here are the two formulas you will be using to compute the gradients. Don't be scared by the mathematics. The long formulas are just to show that this corresponds with what we derived in the lesson!\n",
    "\n",
    "$$ \\frac{dJ(w,b)}{dw} = \\displaystyle\\frac{1}{l}\\displaystyle\\sum^l_{i=1} \\frac{d\\mathcal{L}(\\hat y^{(i)}, y^{(i)})}{dw}= \\displaystyle\\frac{1}{l}\\displaystyle\\sum^l_{i=1} x^{(i)} dz^{(i)}  = \\displaystyle\\frac{1}{l}\\displaystyle\\sum^l_{i=1} x^{(i)}(\\hat y^{(i)}-y^{(i)})  = \\frac{1}{l}x(\\hat y-y)^T$$\n",
    "\n",
    "$$ \\frac{dJ(w,b)}{db} = \\displaystyle\\frac{1}{l}\\displaystyle\\sum^l_{i=1} \\frac{d\\mathcal{L}(\\hat y^{(i)}, y^{(i)})}{db}= \\displaystyle\\frac{1}{l}\\displaystyle\\sum^l_{i=1} dz^{(i)}  = \\displaystyle\\frac{1}{l}\\displaystyle\\sum^l_{i=1} (\\hat y^{(i)}-y^{(i)})$$"
   ]
  },
  {
   "cell_type": "code",
   "execution_count": 34,
   "metadata": {},
   "outputs": [],
   "source": [
    "# Define the propagation function\n",
    "def propagation(w, b, x, y):\n",
    "    l = x.shape[1]\n",
    "    y_hat = 1/(1 + np.exp(- (np.dot(w.T, x) + b)))                                  \n",
    "    cost = -(1/l) * np.sum(y * np.log(y_hat) + (1-y)* np.log(1 - y_hat))    \n",
    "    dw = (1/l) * np.dot(x,(y_hat - y).T)\n",
    "    db = (1/l) * np.sum(y_hat - y)\n",
    "    return dw, db, cost"
   ]
  },
  {
   "cell_type": "code",
   "execution_count": 35,
   "metadata": {},
   "outputs": [],
   "source": [
    "# Use the propogation function\n",
    "dw, db, cost = propagation(w, b, train_img_final, train_labels_final)"
   ]
  },
  {
   "cell_type": "code",
   "execution_count": 36,
   "metadata": {},
   "outputs": [
    {
     "name": "stdout",
     "output_type": "stream",
     "text": [
      "[[-0.05784065]\n",
      " [-0.05436336]\n",
      " [-0.06367089]\n",
      " ...\n",
      " [-0.07482998]\n",
      " [-0.06692231]\n",
      " [-0.07262596]]\n",
      "-0.01139240506329114\n",
      "0.6931471805599452\n"
     ]
    }
   ],
   "source": [
    "print(dw)\n",
    "\n",
    "print(db)\n",
    "\n",
    "print(cost)"
   ]
  },
  {
   "cell_type": "markdown",
   "metadata": {},
   "source": [
    "## Optimization"
   ]
  },
  {
   "cell_type": "markdown",
   "metadata": {},
   "source": [
    "Next, in the optimization step, we have to update $w$ and $b$ as follows:\n",
    "\n",
    "$$w := w - \\alpha * dw$$\n",
    "$$b := b - \\alpha * db$$\n",
    "\n",
    "Note that this `optimization()` function uses the `propagation()` function. It loops over the `propagation()` function in each iteration, and updates both $w$ and $b$ right after that! "
   ]
  },
  {
   "cell_type": "code",
   "execution_count": 37,
   "metadata": {},
   "outputs": [],
   "source": [
    "# Complete the function below using your propagation function to define dw, db and cost \n",
    "# Then use the formula above to update w and b in the optimization function \n",
    "def optimization(w, b, x, y, num_iterations, learning_rate, print_cost = False):\n",
    "    \n",
    "    costs = []\n",
    "    \n",
    "    for i in range(num_iterations):\n",
    "        dw, db, cost = propagation(w, b, x, y)    \n",
    "        w = w - learning_rate*dw\n",
    "        b = b - learning_rate*db\n",
    "        \n",
    "        # Record the costs and print them every 50 iterations\n",
    "        if i % 50 == 0:\n",
    "            costs.append(cost)\n",
    "        if print_cost and i % 50 == 0:\n",
    "            print (\"Cost after iteration %i: %f\" %(i, cost))\n",
    "    \n",
    "    return w, b, costs"
   ]
  },
  {
   "cell_type": "code",
   "execution_count": 38,
   "metadata": {},
   "outputs": [
    {
     "name": "stdout",
     "output_type": "stream",
     "text": [
      "Cost after iteration 0: 0.693147\n",
      "Cost after iteration 50: 0.675005\n",
      "Cost after iteration 100: 0.668414\n",
      "Cost after iteration 150: 0.662114\n"
     ]
    }
   ],
   "source": [
    "# Run this block of code as is\n",
    "w, b, costs = optimization(w, b, train_img_final, train_labels_final, \n",
    "                           num_iterations= 151, learning_rate = 0.0001, print_cost = True)"
   ]
  },
  {
   "cell_type": "markdown",
   "metadata": {},
   "source": [
    "## Make label predictions: Santa or not?"
   ]
  },
  {
   "cell_type": "markdown",
   "metadata": {},
   "source": [
    "Next, let's create a function that makes label predictions. We'll later use this when we will look at our Santa pictures. What we want is a label that is equal to 1 when the predicted $y$ is bigger than 0.5, and 0 otherwise. "
   ]
  },
  {
   "cell_type": "code",
   "execution_count": 39,
   "metadata": {},
   "outputs": [],
   "source": [
    "def prediction(w, b, x):\n",
    "    l = x.shape[1]\n",
    "    y_prediction = np.zeros((1, l))\n",
    "    w = w.reshape(x.shape[0], 1)\n",
    "    y_hat = 1/(1 + np.exp(- (np.dot(w.T, x) + b))) \n",
    "    p = y_hat\n",
    "    \n",
    "    for i in range(y_hat.shape[1]):\n",
    "        if (y_hat[0,i] > 0.5): \n",
    "            y_prediction[0, i] = 1\n",
    "        else:\n",
    "            y_prediction[0, i] = 0\n",
    "    return y_prediction"
   ]
  },
  {
   "cell_type": "markdown",
   "metadata": {},
   "source": [
    "Let's try this out on a small example. Make sure you have 4 predictions in your output here!"
   ]
  },
  {
   "cell_type": "code",
   "execution_count": 40,
   "metadata": {},
   "outputs": [
    {
     "data": {
      "text/plain": [
       "array([[1., 1., 0., 0.]])"
      ]
     },
     "execution_count": 40,
     "metadata": {},
     "output_type": "execute_result"
    }
   ],
   "source": [
    "# Run this block of code as is\n",
    "w = np.array([[0.035], [0.123], [0.217]])\n",
    "b = 0.2\n",
    "x = np.array([[0.2, 0.4, -1.2, -2], \n",
    "              [1, -2., 0.1, -1], \n",
    "              [0.2, 0.4, -1.2, -2]])\n",
    "\n",
    "prediction(w, b, x)"
   ]
  },
  {
   "cell_type": "markdown",
   "metadata": {},
   "source": [
    "## The overall model"
   ]
  },
  {
   "cell_type": "markdown",
   "metadata": {},
   "source": [
    "Now, let's build the overall model!"
   ]
  },
  {
   "cell_type": "code",
   "execution_count": 41,
   "metadata": {},
   "outputs": [],
   "source": [
    "# Review this code carefully\n",
    "def model(x_train, y_train, x_test, y_test, num_iterations = 2000, learning_rate = 0.5, print_cost = False):\n",
    "\n",
    "    b = 0\n",
    "    w = init_w(np.shape(x_train)[0]) \n",
    "\n",
    "    # Gradient descent (≈ 1 line of code)\n",
    "    w, b, costs = optimization(w, b, x_train, y_train, num_iterations, learning_rate, print_cost)\n",
    "    \n",
    "    y_pred_test = prediction(w, b, x_test)\n",
    "    y_pred_train = prediction(w, b, x_train)\n",
    "\n",
    "    # Print train/test errors\n",
    "    print('train accuracy: {} %'.format(100 - np.mean(np.abs(y_pred_train - y_train)) * 100))\n",
    "    print('test accuracy: {} %'.format(100 - np.mean(np.abs(y_pred_test - y_test)) * 100))\n",
    "\n",
    "    output = {'costs': costs, \n",
    "              'y_pred_test': y_pred_test,  \n",
    "              'y_pred_train' : y_pred_train,  \n",
    "              'w' : w, \n",
    "              'b' : b, \n",
    "              'learning_rate' : learning_rate, \n",
    "              'num_iterations': num_iterations}\n",
    "    \n",
    "    return output"
   ]
  },
  {
   "cell_type": "code",
   "execution_count": 45,
   "metadata": {},
   "outputs": [
    {
     "name": "stdout",
     "output_type": "stream",
     "text": [
      "Cost after iteration 0: 0.693147\n",
      "Cost after iteration 50: 0.880402\n",
      "Cost after iteration 100: 0.763331\n",
      "Cost after iteration 150: 0.628797\n",
      "Cost after iteration 200: 0.518186\n",
      "Cost after iteration 250: 0.442320\n",
      "Cost after iteration 300: 0.391254\n",
      "Cost after iteration 350: 0.354488\n",
      "Cost after iteration 400: 0.326262\n",
      "Cost after iteration 450: 0.304070\n",
      "Cost after iteration 500: 0.287473\n",
      "Cost after iteration 550: 0.276690\n",
      "Cost after iteration 600: 0.269139\n",
      "Cost after iteration 650: 0.262364\n",
      "Cost after iteration 700: 0.255995\n",
      "Cost after iteration 750: 0.249976\n",
      "Cost after iteration 800: 0.244271\n",
      "Cost after iteration 850: 0.238848\n",
      "Cost after iteration 900: 0.233684\n",
      "Cost after iteration 950: 0.228756\n",
      "Cost after iteration 1000: 0.224046\n",
      "Cost after iteration 1050: 0.219537\n",
      "Cost after iteration 1100: 0.215215\n",
      "Cost after iteration 1150: 0.211066\n",
      "Cost after iteration 1200: 0.207080\n",
      "Cost after iteration 1250: 0.203246\n",
      "Cost after iteration 1300: 0.199553\n",
      "Cost after iteration 1350: 0.195995\n",
      "Cost after iteration 1400: 0.192562\n",
      "Cost after iteration 1450: 0.189248\n",
      "Cost after iteration 1500: 0.186047\n",
      "Cost after iteration 1550: 0.182951\n",
      "Cost after iteration 1600: 0.179957\n",
      "Cost after iteration 1650: 0.177057\n",
      "Cost after iteration 1700: 0.174249\n",
      "Cost after iteration 1750: 0.171527\n",
      "Cost after iteration 1800: 0.168887\n",
      "Cost after iteration 1850: 0.166326\n",
      "Cost after iteration 1900: 0.163839\n",
      "Cost after iteration 1950: 0.161424\n",
      "train accuracy: 96.9620253164557 %\n",
      "test accuracy: 75.0 %\n"
     ]
    }
   ],
   "source": [
    "# Run the model!\n",
    "# ⏰ Expect your code to take several minutes to run\n",
    "output = model(train_img_final, train_labels_final, test_img_final, test_labels_final, num_iterations=2000, learning_rate=0.005, print_cost=True)"
   ]
  },
  {
   "cell_type": "markdown",
   "metadata": {},
   "source": [
    "## Summary\n",
    "\n",
    "Well done! In this lab you built your first neural network in order to identify images of Santa! In the upcoming labs you'll see how to extend your neural networks to include a larger number of layers and how to then successively prune these complex schemas to improve test and train accuracies."
   ]
  }
 ],
 "metadata": {
  "kernelspec": {
   "display_name": "Python 3",
   "language": "python",
   "name": "python3"
  },
  "language_info": {
   "codemirror_mode": {
    "name": "ipython",
    "version": 3
   },
   "file_extension": ".py",
   "mimetype": "text/x-python",
   "name": "python",
   "nbconvert_exporter": "python",
   "pygments_lexer": "ipython3",
   "version": "3.6.12"
  },
  "toc": {
   "base_numbering": 1,
   "nav_menu": {},
   "number_sections": true,
   "sideBar": true,
   "skip_h1_title": false,
   "title_cell": "Table of Contents",
   "title_sidebar": "Contents",
   "toc_cell": false,
   "toc_position": {},
   "toc_section_display": true,
   "toc_window_display": false
  }
 },
 "nbformat": 4,
 "nbformat_minor": 2
}
